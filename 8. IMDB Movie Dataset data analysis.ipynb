{
  "nbformat": 4,
  "nbformat_minor": 0,
  "metadata": {
    "kernelspec": {
      "display_name": "Python 3",
      "language": "python",
      "name": "python3"
    },
    "language_info": {
      "codemirror_mode": {
        "name": "ipython",
        "version": 3
      },
      "file_extension": ".py",
      "mimetype": "text/x-python",
      "name": "python",
      "nbconvert_exporter": "python",
      "pygments_lexer": "ipython3",
      "version": "3.8.5"
    },
    "colab": {
      "name": "8. IMDB Movie Dataset data analysis.ipynb",
      "provenance": []
    }
  },
  "cells": [
    {
      "cell_type": "markdown",
      "metadata": {
        "id": "dBsIzDcZ_-lb"
      },
      "source": [
        "## IMDB Movie Dataset data analysis"
      ]
    },
    {
      "cell_type": "markdown",
      "metadata": {
        "id": "L-F7l_Ch_-ld"
      },
      "source": [
        "dataset : https://www.kaggle.com/PromptCloudHQ/imdb-data"
      ]
    },
    {
      "cell_type": "code",
      "metadata": {
        "id": "octHJkk9_-ld"
      },
      "source": [
        "import numpy as np\n",
        "import pandas as pd\n",
        "import matplotlib.pyplot as plt\n",
        "import seaborn as sns"
      ],
      "execution_count": 4,
      "outputs": []
    },
    {
      "cell_type": "code",
      "metadata": {
        "id": "vc7WRznz_-lf"
      },
      "source": [
        "data = pd.read_csv('IMDB-Movie-Data.csv')"
      ],
      "execution_count": 5,
      "outputs": []
    },
    {
      "cell_type": "markdown",
      "metadata": {
        "id": "irKnzYQ-_-lg"
      },
      "source": [
        "#### Display Top 10 Rows of The Dataset"
      ]
    },
    {
      "cell_type": "code",
      "metadata": {
        "id": "zN5cmuPt_-lg",
        "outputId": "0151c6d4-eb4d-4781-f8ad-040027f2a90a",
        "colab": {
          "base_uri": "https://localhost:8080/",
          "height": 304
        }
      },
      "source": [
        "data.head()"
      ],
      "execution_count": 6,
      "outputs": [
        {
          "output_type": "execute_result",
          "data": {
            "text/html": [
              "<div>\n",
              "<style scoped>\n",
              "    .dataframe tbody tr th:only-of-type {\n",
              "        vertical-align: middle;\n",
              "    }\n",
              "\n",
              "    .dataframe tbody tr th {\n",
              "        vertical-align: top;\n",
              "    }\n",
              "\n",
              "    .dataframe thead th {\n",
              "        text-align: right;\n",
              "    }\n",
              "</style>\n",
              "<table border=\"1\" class=\"dataframe\">\n",
              "  <thead>\n",
              "    <tr style=\"text-align: right;\">\n",
              "      <th></th>\n",
              "      <th>Rank</th>\n",
              "      <th>Title</th>\n",
              "      <th>Genre</th>\n",
              "      <th>Description</th>\n",
              "      <th>Director</th>\n",
              "      <th>Actors</th>\n",
              "      <th>Year</th>\n",
              "      <th>Runtime (Minutes)</th>\n",
              "      <th>Rating</th>\n",
              "      <th>Votes</th>\n",
              "      <th>Revenue (Millions)</th>\n",
              "      <th>Metascore</th>\n",
              "    </tr>\n",
              "  </thead>\n",
              "  <tbody>\n",
              "    <tr>\n",
              "      <th>0</th>\n",
              "      <td>1</td>\n",
              "      <td>Guardians of the Galaxy</td>\n",
              "      <td>Action,Adventure,Sci-Fi</td>\n",
              "      <td>A group of intergalactic criminals are forced ...</td>\n",
              "      <td>James Gunn</td>\n",
              "      <td>Chris Pratt, Vin Diesel, Bradley Cooper, Zoe S...</td>\n",
              "      <td>2014</td>\n",
              "      <td>121</td>\n",
              "      <td>8.1</td>\n",
              "      <td>757074</td>\n",
              "      <td>333.13</td>\n",
              "      <td>76.0</td>\n",
              "    </tr>\n",
              "    <tr>\n",
              "      <th>1</th>\n",
              "      <td>2</td>\n",
              "      <td>Prometheus</td>\n",
              "      <td>Adventure,Mystery,Sci-Fi</td>\n",
              "      <td>Following clues to the origin of mankind, a te...</td>\n",
              "      <td>Ridley Scott</td>\n",
              "      <td>Noomi Rapace, Logan Marshall-Green, Michael Fa...</td>\n",
              "      <td>2012</td>\n",
              "      <td>124</td>\n",
              "      <td>7.0</td>\n",
              "      <td>485820</td>\n",
              "      <td>126.46</td>\n",
              "      <td>65.0</td>\n",
              "    </tr>\n",
              "    <tr>\n",
              "      <th>2</th>\n",
              "      <td>3</td>\n",
              "      <td>Split</td>\n",
              "      <td>Horror,Thriller</td>\n",
              "      <td>Three girls are kidnapped by a man with a diag...</td>\n",
              "      <td>M. Night Shyamalan</td>\n",
              "      <td>James McAvoy, Anya Taylor-Joy, Haley Lu Richar...</td>\n",
              "      <td>2016</td>\n",
              "      <td>117</td>\n",
              "      <td>7.3</td>\n",
              "      <td>157606</td>\n",
              "      <td>138.12</td>\n",
              "      <td>62.0</td>\n",
              "    </tr>\n",
              "    <tr>\n",
              "      <th>3</th>\n",
              "      <td>4</td>\n",
              "      <td>Sing</td>\n",
              "      <td>Animation,Comedy,Family</td>\n",
              "      <td>In a city of humanoid animals, a hustling thea...</td>\n",
              "      <td>Christophe Lourdelet</td>\n",
              "      <td>Matthew McConaughey,Reese Witherspoon, Seth Ma...</td>\n",
              "      <td>2016</td>\n",
              "      <td>108</td>\n",
              "      <td>7.2</td>\n",
              "      <td>60545</td>\n",
              "      <td>270.32</td>\n",
              "      <td>59.0</td>\n",
              "    </tr>\n",
              "    <tr>\n",
              "      <th>4</th>\n",
              "      <td>5</td>\n",
              "      <td>Suicide Squad</td>\n",
              "      <td>Action,Adventure,Fantasy</td>\n",
              "      <td>A secret government agency recruits some of th...</td>\n",
              "      <td>David Ayer</td>\n",
              "      <td>Will Smith, Jared Leto, Margot Robbie, Viola D...</td>\n",
              "      <td>2016</td>\n",
              "      <td>123</td>\n",
              "      <td>6.2</td>\n",
              "      <td>393727</td>\n",
              "      <td>325.02</td>\n",
              "      <td>40.0</td>\n",
              "    </tr>\n",
              "  </tbody>\n",
              "</table>\n",
              "</div>"
            ],
            "text/plain": [
              "   Rank                    Title  ... Revenue (Millions) Metascore\n",
              "0     1  Guardians of the Galaxy  ...             333.13      76.0\n",
              "1     2               Prometheus  ...             126.46      65.0\n",
              "2     3                    Split  ...             138.12      62.0\n",
              "3     4                     Sing  ...             270.32      59.0\n",
              "4     5            Suicide Squad  ...             325.02      40.0\n",
              "\n",
              "[5 rows x 12 columns]"
            ]
          },
          "metadata": {},
          "execution_count": 6
        }
      ]
    },
    {
      "cell_type": "markdown",
      "metadata": {
        "id": "xzYuwbzS_-li"
      },
      "source": [
        "#### Check Last 10 Rows of The Dataset"
      ]
    },
    {
      "cell_type": "code",
      "metadata": {
        "id": "winSBABj_-li",
        "outputId": "16ef7cef-7e6e-46ab-f470-0cae0b6e306a",
        "colab": {
          "base_uri": "https://localhost:8080/",
          "height": 304
        }
      },
      "source": [
        "data.tail()"
      ],
      "execution_count": 7,
      "outputs": [
        {
          "output_type": "execute_result",
          "data": {
            "text/html": [
              "<div>\n",
              "<style scoped>\n",
              "    .dataframe tbody tr th:only-of-type {\n",
              "        vertical-align: middle;\n",
              "    }\n",
              "\n",
              "    .dataframe tbody tr th {\n",
              "        vertical-align: top;\n",
              "    }\n",
              "\n",
              "    .dataframe thead th {\n",
              "        text-align: right;\n",
              "    }\n",
              "</style>\n",
              "<table border=\"1\" class=\"dataframe\">\n",
              "  <thead>\n",
              "    <tr style=\"text-align: right;\">\n",
              "      <th></th>\n",
              "      <th>Rank</th>\n",
              "      <th>Title</th>\n",
              "      <th>Genre</th>\n",
              "      <th>Description</th>\n",
              "      <th>Director</th>\n",
              "      <th>Actors</th>\n",
              "      <th>Year</th>\n",
              "      <th>Runtime (Minutes)</th>\n",
              "      <th>Rating</th>\n",
              "      <th>Votes</th>\n",
              "      <th>Revenue (Millions)</th>\n",
              "      <th>Metascore</th>\n",
              "    </tr>\n",
              "  </thead>\n",
              "  <tbody>\n",
              "    <tr>\n",
              "      <th>995</th>\n",
              "      <td>996</td>\n",
              "      <td>Secret in Their Eyes</td>\n",
              "      <td>Crime,Drama,Mystery</td>\n",
              "      <td>A tight-knit team of rising investigators, alo...</td>\n",
              "      <td>Billy Ray</td>\n",
              "      <td>Chiwetel Ejiofor, Nicole Kidman, Julia Roberts...</td>\n",
              "      <td>2015</td>\n",
              "      <td>111</td>\n",
              "      <td>6.2</td>\n",
              "      <td>27585</td>\n",
              "      <td>NaN</td>\n",
              "      <td>45.0</td>\n",
              "    </tr>\n",
              "    <tr>\n",
              "      <th>996</th>\n",
              "      <td>997</td>\n",
              "      <td>Hostel: Part II</td>\n",
              "      <td>Horror</td>\n",
              "      <td>Three American college students studying abroa...</td>\n",
              "      <td>Eli Roth</td>\n",
              "      <td>Lauren German, Heather Matarazzo, Bijou Philli...</td>\n",
              "      <td>2007</td>\n",
              "      <td>94</td>\n",
              "      <td>5.5</td>\n",
              "      <td>73152</td>\n",
              "      <td>17.54</td>\n",
              "      <td>46.0</td>\n",
              "    </tr>\n",
              "    <tr>\n",
              "      <th>997</th>\n",
              "      <td>998</td>\n",
              "      <td>Step Up 2: The Streets</td>\n",
              "      <td>Drama,Music,Romance</td>\n",
              "      <td>Romantic sparks occur between two dance studen...</td>\n",
              "      <td>Jon M. Chu</td>\n",
              "      <td>Robert Hoffman, Briana Evigan, Cassie Ventura,...</td>\n",
              "      <td>2008</td>\n",
              "      <td>98</td>\n",
              "      <td>6.2</td>\n",
              "      <td>70699</td>\n",
              "      <td>58.01</td>\n",
              "      <td>50.0</td>\n",
              "    </tr>\n",
              "    <tr>\n",
              "      <th>998</th>\n",
              "      <td>999</td>\n",
              "      <td>Search Party</td>\n",
              "      <td>Adventure,Comedy</td>\n",
              "      <td>A pair of friends embark on a mission to reuni...</td>\n",
              "      <td>Scot Armstrong</td>\n",
              "      <td>Adam Pally, T.J. Miller, Thomas Middleditch,Sh...</td>\n",
              "      <td>2014</td>\n",
              "      <td>93</td>\n",
              "      <td>5.6</td>\n",
              "      <td>4881</td>\n",
              "      <td>NaN</td>\n",
              "      <td>22.0</td>\n",
              "    </tr>\n",
              "    <tr>\n",
              "      <th>999</th>\n",
              "      <td>1000</td>\n",
              "      <td>Nine Lives</td>\n",
              "      <td>Comedy,Family,Fantasy</td>\n",
              "      <td>A stuffy businessman finds himself trapped ins...</td>\n",
              "      <td>Barry Sonnenfeld</td>\n",
              "      <td>Kevin Spacey, Jennifer Garner, Robbie Amell,Ch...</td>\n",
              "      <td>2016</td>\n",
              "      <td>87</td>\n",
              "      <td>5.3</td>\n",
              "      <td>12435</td>\n",
              "      <td>19.64</td>\n",
              "      <td>11.0</td>\n",
              "    </tr>\n",
              "  </tbody>\n",
              "</table>\n",
              "</div>"
            ],
            "text/plain": [
              "     Rank                   Title  ... Revenue (Millions) Metascore\n",
              "995   996    Secret in Their Eyes  ...                NaN      45.0\n",
              "996   997         Hostel: Part II  ...              17.54      46.0\n",
              "997   998  Step Up 2: The Streets  ...              58.01      50.0\n",
              "998   999            Search Party  ...                NaN      22.0\n",
              "999  1000              Nine Lives  ...              19.64      11.0\n",
              "\n",
              "[5 rows x 12 columns]"
            ]
          },
          "metadata": {},
          "execution_count": 7
        }
      ]
    },
    {
      "cell_type": "markdown",
      "metadata": {
        "id": "yIrBJTyi_-lj"
      },
      "source": [
        "#### Find Shape of Our Dataset (Number of Rows And Number of Columns)"
      ]
    },
    {
      "cell_type": "code",
      "metadata": {
        "id": "7XAb4Cdi_-lj",
        "outputId": "0fa8825e-3a26-411d-8f67-da22d2ef4a53",
        "colab": {
          "base_uri": "https://localhost:8080/"
        }
      },
      "source": [
        "data.shape"
      ],
      "execution_count": 8,
      "outputs": [
        {
          "output_type": "execute_result",
          "data": {
            "text/plain": [
              "(1000, 12)"
            ]
          },
          "metadata": {},
          "execution_count": 8
        }
      ]
    },
    {
      "cell_type": "markdown",
      "metadata": {
        "id": "8ANjmchX_-lk"
      },
      "source": [
        "#### Getting Information About Our Dataset Like Total Number Rows, Total Number of Columns, Datatypes of Each Column And     Memory Requirement"
      ]
    },
    {
      "cell_type": "code",
      "metadata": {
        "id": "Z02vNRZC_-lk",
        "outputId": "ac232a99-8700-432a-ce33-613e6e8cd900",
        "colab": {
          "base_uri": "https://localhost:8080/"
        }
      },
      "source": [
        "data.info()"
      ],
      "execution_count": 9,
      "outputs": [
        {
          "output_type": "stream",
          "name": "stdout",
          "text": [
            "<class 'pandas.core.frame.DataFrame'>\n",
            "RangeIndex: 1000 entries, 0 to 999\n",
            "Data columns (total 12 columns):\n",
            " #   Column              Non-Null Count  Dtype  \n",
            "---  ------              --------------  -----  \n",
            " 0   Rank                1000 non-null   int64  \n",
            " 1   Title               1000 non-null   object \n",
            " 2   Genre               1000 non-null   object \n",
            " 3   Description         1000 non-null   object \n",
            " 4   Director            1000 non-null   object \n",
            " 5   Actors              1000 non-null   object \n",
            " 6   Year                1000 non-null   int64  \n",
            " 7   Runtime (Minutes)   1000 non-null   int64  \n",
            " 8   Rating              1000 non-null   float64\n",
            " 9   Votes               1000 non-null   int64  \n",
            " 10  Revenue (Millions)  872 non-null    float64\n",
            " 11  Metascore           936 non-null    float64\n",
            "dtypes: float64(3), int64(4), object(5)\n",
            "memory usage: 93.9+ KB\n"
          ]
        }
      ]
    },
    {
      "cell_type": "markdown",
      "metadata": {
        "id": "ep9fCFhT_-ll"
      },
      "source": [
        "#### Check Missing Values In The Dataset"
      ]
    },
    {
      "cell_type": "code",
      "metadata": {
        "id": "w4NQcqRs_-ll",
        "outputId": "45f24c51-4806-4407-f0cb-101dc5288580",
        "colab": {
          "base_uri": "https://localhost:8080/"
        }
      },
      "source": [
        "data.isnull().sum()"
      ],
      "execution_count": 10,
      "outputs": [
        {
          "output_type": "execute_result",
          "data": {
            "text/plain": [
              "Rank                    0\n",
              "Title                   0\n",
              "Genre                   0\n",
              "Description             0\n",
              "Director                0\n",
              "Actors                  0\n",
              "Year                    0\n",
              "Runtime (Minutes)       0\n",
              "Rating                  0\n",
              "Votes                   0\n",
              "Revenue (Millions)    128\n",
              "Metascore              64\n",
              "dtype: int64"
            ]
          },
          "metadata": {},
          "execution_count": 10
        }
      ]
    },
    {
      "cell_type": "code",
      "metadata": {
        "id": "Mt6JsjGc_-lm",
        "outputId": "4224ce3a-8b95-4b52-d339-f235c910017f",
        "colab": {
          "base_uri": "https://localhost:8080/",
          "height": 364
        }
      },
      "source": [
        "sns.heatmap(data.isnull(), yticklabels = False, cbar = False)"
      ],
      "execution_count": 11,
      "outputs": [
        {
          "output_type": "execute_result",
          "data": {
            "text/plain": [
              "<matplotlib.axes._subplots.AxesSubplot at 0x7f5431b7e910>"
            ]
          },
          "metadata": {},
          "execution_count": 11
        },
        {
          "output_type": "display_data",
          "data": {
            "image/png": "[encoded data removed]",
            "text/plain": [
              "<Figure size 432x288 with 1 Axes>"
            ]
          },
          "metadata": {
            "needs_background": "light"
          }
        }
      ]
    },
    {
      "cell_type": "code",
      "metadata": {
        "id": "qQb_37Fi_-lm",
        "outputId": "5094537d-3b09-4308-9e71-a821326db6b9",
        "colab": {
          "base_uri": "https://localhost:8080/"
        }
      },
      "source": [
        "percentage_missing = data.isnull().sum()*100/len(data)\n",
        "percentage_missing"
      ],
      "execution_count": 12,
      "outputs": [
        {
          "output_type": "execute_result",
          "data": {
            "text/plain": [
              "Rank                   0.0\n",
              "Title                  0.0\n",
              "Genre                  0.0\n",
              "Description            0.0\n",
              "Director               0.0\n",
              "Actors                 0.0\n",
              "Year                   0.0\n",
              "Runtime (Minutes)      0.0\n",
              "Rating                 0.0\n",
              "Votes                  0.0\n",
              "Revenue (Millions)    12.8\n",
              "Metascore              6.4\n",
              "dtype: float64"
            ]
          },
          "metadata": {},
          "execution_count": 12
        }
      ]
    },
    {
      "cell_type": "code",
      "metadata": {
        "id": "NklFWnWkAIkK",
        "outputId": "2be1155e-f2d7-401c-9b2f-db122671d472",
        "colab": {
          "base_uri": "https://localhost:8080/"
        }
      },
      "source": [
        "data.isnull().mean()"
      ],
      "execution_count": 13,
      "outputs": [
        {
          "output_type": "execute_result",
          "data": {
            "text/plain": [
              "Rank                  0.000\n",
              "Title                 0.000\n",
              "Genre                 0.000\n",
              "Description           0.000\n",
              "Director              0.000\n",
              "Actors                0.000\n",
              "Year                  0.000\n",
              "Runtime (Minutes)     0.000\n",
              "Rating                0.000\n",
              "Votes                 0.000\n",
              "Revenue (Millions)    0.128\n",
              "Metascore             0.064\n",
              "dtype: float64"
            ]
          },
          "metadata": {},
          "execution_count": 13
        }
      ]
    },
    {
      "cell_type": "markdown",
      "metadata": {
        "id": "qRJuldDd_-ln"
      },
      "source": [
        "#### Drop All The  Missing Values"
      ]
    },
    {
      "cell_type": "code",
      "metadata": {
        "id": "-bpbV5Rn_-lo"
      },
      "source": [
        "data.dropna(axis=0, inplace = True)"
      ],
      "execution_count": 14,
      "outputs": []
    },
    {
      "cell_type": "markdown",
      "metadata": {
        "id": "mwB7j_43_-lo"
      },
      "source": [
        "#### Check For Duplicate Data"
      ]
    },
    {
      "cell_type": "code",
      "metadata": {
        "id": "YXsNchPP_-lp",
        "outputId": "a01ee038-86e3-475e-d66b-bc37c487638f",
        "colab": {
          "base_uri": "https://localhost:8080/"
        }
      },
      "source": [
        "duplicate_data = data.duplicated().any()\n",
        "duplicate_data"
      ],
      "execution_count": 15,
      "outputs": [
        {
          "output_type": "execute_result",
          "data": {
            "text/plain": [
              "False"
            ]
          },
          "metadata": {},
          "execution_count": 15
        }
      ]
    },
    {
      "cell_type": "markdown",
      "metadata": {
        "id": "VbwrM2l9_-lp"
      },
      "source": [
        "#### Get Overall Statistics About The DataFrame"
      ]
    },
    {
      "cell_type": "code",
      "metadata": {
        "id": "iJ-RL2de_-lq",
        "outputId": "ab46a005-670f-4c04-e132-91b21de5756d",
        "colab": {
          "base_uri": "https://localhost:8080/",
          "height": 0
        }
      },
      "source": [
        "data.describe()"
      ],
      "execution_count": 16,
      "outputs": [
        {
          "output_type": "execute_result",
          "data": {
            "text/html": [
              "<div>\n",
              "<style scoped>\n",
              "    .dataframe tbody tr th:only-of-type {\n",
              "        vertical-align: middle;\n",
              "    }\n",
              "\n",
              "    .dataframe tbody tr th {\n",
              "        vertical-align: top;\n",
              "    }\n",
              "\n",
              "    .dataframe thead th {\n",
              "        text-align: right;\n",
              "    }\n",
              "</style>\n",
              "<table border=\"1\" class=\"dataframe\">\n",
              "  <thead>\n",
              "    <tr style=\"text-align: right;\">\n",
              "      <th></th>\n",
              "      <th>Rank</th>\n",
              "      <th>Year</th>\n",
              "      <th>Runtime (Minutes)</th>\n",
              "      <th>Rating</th>\n",
              "      <th>Votes</th>\n",
              "      <th>Revenue (Millions)</th>\n",
              "      <th>Metascore</th>\n",
              "    </tr>\n",
              "  </thead>\n",
              "  <tbody>\n",
              "    <tr>\n",
              "      <th>count</th>\n",
              "      <td>838.000000</td>\n",
              "      <td>838.00000</td>\n",
              "      <td>838.000000</td>\n",
              "      <td>838.000000</td>\n",
              "      <td>8.380000e+02</td>\n",
              "      <td>838.000000</td>\n",
              "      <td>838.000000</td>\n",
              "    </tr>\n",
              "    <tr>\n",
              "      <th>mean</th>\n",
              "      <td>485.247017</td>\n",
              "      <td>2012.50716</td>\n",
              "      <td>114.638425</td>\n",
              "      <td>6.814320</td>\n",
              "      <td>1.932303e+05</td>\n",
              "      <td>84.564558</td>\n",
              "      <td>59.575179</td>\n",
              "    </tr>\n",
              "    <tr>\n",
              "      <th>std</th>\n",
              "      <td>286.572065</td>\n",
              "      <td>3.17236</td>\n",
              "      <td>18.470922</td>\n",
              "      <td>0.877754</td>\n",
              "      <td>1.930990e+05</td>\n",
              "      <td>104.520227</td>\n",
              "      <td>16.952416</td>\n",
              "    </tr>\n",
              "    <tr>\n",
              "      <th>min</th>\n",
              "      <td>1.000000</td>\n",
              "      <td>2006.00000</td>\n",
              "      <td>66.000000</td>\n",
              "      <td>1.900000</td>\n",
              "      <td>1.780000e+02</td>\n",
              "      <td>0.000000</td>\n",
              "      <td>11.000000</td>\n",
              "    </tr>\n",
              "    <tr>\n",
              "      <th>25%</th>\n",
              "      <td>238.250000</td>\n",
              "      <td>2010.00000</td>\n",
              "      <td>101.000000</td>\n",
              "      <td>6.300000</td>\n",
              "      <td>6.127650e+04</td>\n",
              "      <td>13.967500</td>\n",
              "      <td>47.000000</td>\n",
              "    </tr>\n",
              "    <tr>\n",
              "      <th>50%</th>\n",
              "      <td>475.500000</td>\n",
              "      <td>2013.00000</td>\n",
              "      <td>112.000000</td>\n",
              "      <td>6.900000</td>\n",
              "      <td>1.368795e+05</td>\n",
              "      <td>48.150000</td>\n",
              "      <td>60.000000</td>\n",
              "    </tr>\n",
              "    <tr>\n",
              "      <th>75%</th>\n",
              "      <td>729.750000</td>\n",
              "      <td>2015.00000</td>\n",
              "      <td>124.000000</td>\n",
              "      <td>7.500000</td>\n",
              "      <td>2.710830e+05</td>\n",
              "      <td>116.800000</td>\n",
              "      <td>72.000000</td>\n",
              "    </tr>\n",
              "    <tr>\n",
              "      <th>max</th>\n",
              "      <td>1000.000000</td>\n",
              "      <td>2016.00000</td>\n",
              "      <td>187.000000</td>\n",
              "      <td>9.000000</td>\n",
              "      <td>1.791916e+06</td>\n",
              "      <td>936.630000</td>\n",
              "      <td>100.000000</td>\n",
              "    </tr>\n",
              "  </tbody>\n",
              "</table>\n",
              "</div>"
            ],
            "text/plain": [
              "              Rank        Year  ...  Revenue (Millions)   Metascore\n",
              "count   838.000000   838.00000  ...          838.000000  838.000000\n",
              "mean    485.247017  2012.50716  ...           84.564558   59.575179\n",
              "std     286.572065     3.17236  ...          104.520227   16.952416\n",
              "min       1.000000  2006.00000  ...            0.000000   11.000000\n",
              "25%     238.250000  2010.00000  ...           13.967500   47.000000\n",
              "50%     475.500000  2013.00000  ...           48.150000   60.000000\n",
              "75%     729.750000  2015.00000  ...          116.800000   72.000000\n",
              "max    1000.000000  2016.00000  ...          936.630000  100.000000\n",
              "\n",
              "[8 rows x 7 columns]"
            ]
          },
          "metadata": {},
          "execution_count": 16
        }
      ]
    },
    {
      "cell_type": "markdown",
      "metadata": {
        "id": "VAOy3jul_-lr"
      },
      "source": [
        "#### Display Title of The Movie Having Runtime Greater Than or equal to 180 Minutes"
      ]
    },
    {
      "cell_type": "code",
      "metadata": {
        "id": "I4qBQ2PG_-lr",
        "outputId": "8b8573a9-4b71-489d-b716-a008fa0cfa32",
        "colab": {
          "base_uri": "https://localhost:8080/"
        }
      },
      "source": [
        "data.columns"
      ],
      "execution_count": 17,
      "outputs": [
        {
          "output_type": "execute_result",
          "data": {
            "text/plain": [
              "Index(['Rank', 'Title', 'Genre', 'Description', 'Director', 'Actors', 'Year',\n",
              "       'Runtime (Minutes)', 'Rating', 'Votes', 'Revenue (Millions)',\n",
              "       'Metascore'],\n",
              "      dtype='object')"
            ]
          },
          "metadata": {},
          "execution_count": 17
        }
      ]
    },
    {
      "cell_type": "code",
      "metadata": {
        "id": "o4jqUic__-ls",
        "outputId": "08fb5e45-ba76-4790-c232-9c6c41346d50",
        "colab": {
          "base_uri": "https://localhost:8080/"
        }
      },
      "source": [
        "data[data['Runtime (Minutes)']>=180]['Title']"
      ],
      "execution_count": 18,
      "outputs": [
        {
          "output_type": "execute_result",
          "data": {
            "text/plain": [
              "82     The Wolf of Wall Street\n",
              "88           The Hateful Eight\n",
              "311             La vie d'Adèle\n",
              "Name: Title, dtype: object"
            ]
          },
          "metadata": {},
          "execution_count": 18
        }
      ]
    },
    {
      "cell_type": "markdown",
      "metadata": {
        "id": "twiuwy1I_-ls"
      },
      "source": [
        "#### In Which Year There Was The Highest Average Voting?"
      ]
    },
    {
      "cell_type": "code",
      "metadata": {
        "id": "u0n_kRfj_-ls",
        "outputId": "76366045-0b5f-46fa-9a89-f7399ac70192",
        "colab": {
          "base_uri": "https://localhost:8080/"
        }
      },
      "source": [
        "data.groupby('Year')['Votes'].mean().sort_values(ascending = False)"
      ],
      "execution_count": 19,
      "outputs": [
        {
          "output_type": "execute_result",
          "data": {
            "text/plain": [
              "Year\n",
              "2012    290861.483871\n",
              "2006    277232.219512\n",
              "2009    267180.577778\n",
              "2008    266580.145833\n",
              "2007    266530.704545\n",
              "2010    261082.929825\n",
              "2011    259254.736842\n",
              "2013    225531.892857\n",
              "2014    211926.881720\n",
              "2015    129512.651376\n",
              "2016     68437.823232\n",
              "Name: Votes, dtype: float64"
            ]
          },
          "metadata": {},
          "execution_count": 19
        }
      ]
    },
    {
      "cell_type": "code",
      "metadata": {
        "id": "H8qcACiu_-lt",
        "outputId": "696c662e-4f2a-4359-f7b8-22d833bd94cc",
        "colab": {
          "base_uri": "https://localhost:8080/",
          "height": 0
        }
      },
      "source": [
        "sns.barplot(x =  'Year', y = 'Votes', data = data)"
      ],
      "execution_count": 20,
      "outputs": [
        {
          "output_type": "execute_result",
          "data": {
            "text/plain": [
              "<matplotlib.axes._subplots.AxesSubplot at 0x7f5429afbf90>"
            ]
          },
          "metadata": {},
          "execution_count": 20
        },
        {
          "output_type": "display_data",
          "data": {
            "image/png": "[encoded data removed]",
            "text/plain": [
              "<Figure size 432x288 with 1 Axes>"
            ]
          },
          "metadata": {
            "needs_background": "light"
          }
        }
      ]
    },
    {
      "cell_type": "markdown",
      "metadata": {
        "id": "6Mgih-Lw_-lu"
      },
      "source": [
        "#### In Which Year There Was The Highest Average Revenue?"
      ]
    },
    {
      "cell_type": "code",
      "metadata": {
        "id": "UjYlrG6-_-lu",
        "outputId": "351c9175-1ea3-494f-a38d-448d4128f2e8",
        "colab": {
          "base_uri": "https://localhost:8080/"
        }
      },
      "source": [
        "data.groupby('Year')['Revenue (Millions)'].max().sort_values(ascending = False)"
      ],
      "execution_count": 21,
      "outputs": [
        {
          "output_type": "execute_result",
          "data": {
            "text/plain": [
              "Year\n",
              "2015    936.63\n",
              "2009    760.51\n",
              "2012    623.28\n",
              "2008    533.32\n",
              "2016    532.17\n",
              "2013    424.65\n",
              "2006    423.03\n",
              "2010    414.98\n",
              "2011    380.96\n",
              "2014    350.12\n",
              "2007    336.53\n",
              "Name: Revenue (Millions), dtype: float64"
            ]
          },
          "metadata": {},
          "execution_count": 21
        }
      ]
    },
    {
      "cell_type": "code",
      "metadata": {
        "id": "klZorGw__-lv",
        "outputId": "15c0b5fb-d6aa-454b-dfbb-f2cc2f442f33",
        "colab": {
          "base_uri": "https://localhost:8080/",
          "height": 0
        }
      },
      "source": [
        "sns.barplot(x =  'Year', y = 'Revenue (Millions)', data = data)"
      ],
      "execution_count": 22,
      "outputs": [
        {
          "output_type": "execute_result",
          "data": {
            "text/plain": [
              "<matplotlib.axes._subplots.AxesSubplot at 0x7f542830c2d0>"
            ]
          },
          "metadata": {},
          "execution_count": 22
        },
        {
          "output_type": "display_data",
          "data": {
            "image/png": "[encoded data removed]",
            "text/plain": [
              "<Figure size 432x288 with 1 Axes>"
            ]
          },
          "metadata": {
            "needs_background": "light"
          }
        }
      ]
    },
    {
      "cell_type": "markdown",
      "metadata": {
        "id": "02eJv5f-_-lv"
      },
      "source": [
        "#### Find The Average Rating For Each Director"
      ]
    },
    {
      "cell_type": "code",
      "metadata": {
        "id": "aHCB6zxH_-lv",
        "outputId": "1e3a55c8-7021-448f-c123-3aeb13d3200e",
        "colab": {
          "base_uri": "https://localhost:8080/"
        }
      },
      "source": [
        "data.columns"
      ],
      "execution_count": 23,
      "outputs": [
        {
          "output_type": "execute_result",
          "data": {
            "text/plain": [
              "Index(['Rank', 'Title', 'Genre', 'Description', 'Director', 'Actors', 'Year',\n",
              "       'Runtime (Minutes)', 'Rating', 'Votes', 'Revenue (Millions)',\n",
              "       'Metascore'],\n",
              "      dtype='object')"
            ]
          },
          "metadata": {},
          "execution_count": 23
        }
      ]
    },
    {
      "cell_type": "code",
      "metadata": {
        "id": "BMIz7BQf_-lw",
        "outputId": "95bb77da-a380-4fbb-a6fc-79f5eb6b4e59",
        "colab": {
          "base_uri": "https://localhost:8080/"
        }
      },
      "source": [
        "data.groupby('Director')['Rating'].mean().sort_values(ascending = False)"
      ],
      "execution_count": 24,
      "outputs": [
        {
          "output_type": "execute_result",
          "data": {
            "text/plain": [
              "Director\n",
              "Christopher Nolan                   8.68\n",
              "Olivier Nakache                     8.60\n",
              "Makoto Shinkai                      8.60\n",
              "Aamir Khan                          8.50\n",
              "Florian Henckel von Donnersmarck    8.50\n",
              "                                    ... \n",
              "Sam Taylor-Johnson                  4.10\n",
              "Joey Curtis                         4.00\n",
              "George Nolfi                        3.90\n",
              "James Wong                          2.70\n",
              "Jason Friedberg                     1.90\n",
              "Name: Rating, Length: 524, dtype: float64"
            ]
          },
          "metadata": {},
          "execution_count": 24
        }
      ]
    },
    {
      "cell_type": "markdown",
      "metadata": {
        "id": "9XROYUEh_-lw"
      },
      "source": [
        "#### Display Top 10 Lengthy Movies Title and Runtime"
      ]
    },
    {
      "cell_type": "code",
      "metadata": {
        "id": "IixAMxCq_-lx",
        "outputId": "81a1d2e1-49a4-4c18-cafb-6c67aa6797eb",
        "colab": {
          "base_uri": "https://localhost:8080/",
          "height": 0
        }
      },
      "source": [
        "top10_len = data.nlargest(10, 'Runtime (Minutes)')[['Title','Runtime (Minutes)']]\\\n",
        ".set_index('Title')\n",
        "top10_len"
      ],
      "execution_count": 25,
      "outputs": [
        {
          "output_type": "execute_result",
          "data": {
            "text/html": [
              "<div>\n",
              "<style scoped>\n",
              "    .dataframe tbody tr th:only-of-type {\n",
              "        vertical-align: middle;\n",
              "    }\n",
              "\n",
              "    .dataframe tbody tr th {\n",
              "        vertical-align: top;\n",
              "    }\n",
              "\n",
              "    .dataframe thead th {\n",
              "        text-align: right;\n",
              "    }\n",
              "</style>\n",
              "<table border=\"1\" class=\"dataframe\">\n",
              "  <thead>\n",
              "    <tr style=\"text-align: right;\">\n",
              "      <th></th>\n",
              "      <th>Runtime (Minutes)</th>\n",
              "    </tr>\n",
              "    <tr>\n",
              "      <th>Title</th>\n",
              "      <th></th>\n",
              "    </tr>\n",
              "  </thead>\n",
              "  <tbody>\n",
              "    <tr>\n",
              "      <th>The Hateful Eight</th>\n",
              "      <td>187</td>\n",
              "    </tr>\n",
              "    <tr>\n",
              "      <th>The Wolf of Wall Street</th>\n",
              "      <td>180</td>\n",
              "    </tr>\n",
              "    <tr>\n",
              "      <th>La vie d'Adèle</th>\n",
              "      <td>180</td>\n",
              "    </tr>\n",
              "    <tr>\n",
              "      <th>Cloud Atlas</th>\n",
              "      <td>172</td>\n",
              "    </tr>\n",
              "    <tr>\n",
              "      <th>3 Idiots</th>\n",
              "      <td>170</td>\n",
              "    </tr>\n",
              "    <tr>\n",
              "      <th>Interstellar</th>\n",
              "      <td>169</td>\n",
              "    </tr>\n",
              "    <tr>\n",
              "      <th>Pirates of the Caribbean: At World's End</th>\n",
              "      <td>169</td>\n",
              "    </tr>\n",
              "    <tr>\n",
              "      <th>The Hobbit: An Unexpected Journey</th>\n",
              "      <td>169</td>\n",
              "    </tr>\n",
              "    <tr>\n",
              "      <th>The Curious Case of Benjamin Button</th>\n",
              "      <td>166</td>\n",
              "    </tr>\n",
              "    <tr>\n",
              "      <th>Transformers: Age of Extinction</th>\n",
              "      <td>165</td>\n",
              "    </tr>\n",
              "  </tbody>\n",
              "</table>\n",
              "</div>"
            ],
            "text/plain": [
              "                                          Runtime (Minutes)\n",
              "Title                                                      \n",
              "The Hateful Eight                                       187\n",
              "The Wolf of Wall Street                                 180\n",
              "La vie d'Adèle                                          180\n",
              "Cloud Atlas                                             172\n",
              "3 Idiots                                                170\n",
              "Interstellar                                            169\n",
              "Pirates of the Caribbean: At World's End                169\n",
              "The Hobbit: An Unexpected Journey                       169\n",
              "The Curious Case of Benjamin Button                     166\n",
              "Transformers: Age of Extinction                         165"
            ]
          },
          "metadata": {},
          "execution_count": 25
        }
      ]
    },
    {
      "cell_type": "code",
      "metadata": {
        "id": "ITI1ub7t_-lx",
        "outputId": "15301647-701a-46ef-9019-3d04631f98bb",
        "colab": {
          "base_uri": "https://localhost:8080/",
          "height": 0
        }
      },
      "source": [
        "sns.barplot(x='Runtime (Minutes)', y=top10_len.index, data=top10_len)"
      ],
      "execution_count": 26,
      "outputs": [
        {
          "output_type": "execute_result",
          "data": {
            "text/plain": [
              "<matplotlib.axes._subplots.AxesSubplot at 0x7f54281f56d0>"
            ]
          },
          "metadata": {},
          "execution_count": 26
        },
        {
          "output_type": "display_data",
          "data": {
            "image/png": "[encoded data removed]",
            "text/plain": [
              "<Figure size 432x288 with 1 Axes>"
            ]
          },
          "metadata": {
            "needs_background": "light"
          }
        }
      ]
    },
    {
      "cell_type": "markdown",
      "metadata": {
        "id": "TkdWFLjM_-ly"
      },
      "source": [
        "#### Display Number of Movies Per Year"
      ]
    },
    {
      "cell_type": "code",
      "metadata": {
        "id": "kzDo2mle_-ly",
        "outputId": "79a7de07-4e0b-4236-a39e-99f3fd769fff",
        "colab": {
          "base_uri": "https://localhost:8080/"
        }
      },
      "source": [
        "data['Year'].value_counts()"
      ],
      "execution_count": 27,
      "outputs": [
        {
          "output_type": "execute_result",
          "data": {
            "text/plain": [
              "2016    198\n",
              "2015    109\n",
              "2014     93\n",
              "2013     84\n",
              "2012     62\n",
              "2011     57\n",
              "2010     57\n",
              "2008     48\n",
              "2009     45\n",
              "2007     44\n",
              "2006     41\n",
              "Name: Year, dtype: int64"
            ]
          },
          "metadata": {},
          "execution_count": 27
        }
      ]
    },
    {
      "cell_type": "code",
      "metadata": {
        "id": "4l3wSuXd_-lz",
        "outputId": "08d0fa02-ee71-4281-fa59-81b06a940bdd",
        "colab": {
          "base_uri": "https://localhost:8080/",
          "height": 0
        }
      },
      "source": [
        "sns.countplot(data['Year'])"
      ],
      "execution_count": 28,
      "outputs": [
        {
          "output_type": "stream",
          "name": "stderr",
          "text": [
            "/usr/local/lib/python3.7/dist-packages/seaborn/_decorators.py:43: FutureWarning: Pass the following variable as a keyword arg: x. From version 0.12, the only valid positional argument will be `data`, and passing other arguments without an explicit keyword will result in an error or misinterpretation.\n",
            "  FutureWarning\n"
          ]
        },
        {
          "output_type": "execute_result",
          "data": {
            "text/plain": [
              "<matplotlib.axes._subplots.AxesSubplot at 0x7f542819a150>"
            ]
          },
          "metadata": {},
          "execution_count": 28
        },
        {
          "output_type": "display_data",
          "data": {
            "image/png": "[encoded data removed]",
            "text/plain": [
              "<Figure size 432x288 with 1 Axes>"
            ]
          },
          "metadata": {
            "needs_background": "light"
          }
        }
      ]
    },
    {
      "cell_type": "markdown",
      "metadata": {
        "id": "d9X_hbt9_-lz"
      },
      "source": [
        "#### Find Most Popular Movie Title (Highest Revenue)"
      ]
    },
    {
      "cell_type": "code",
      "metadata": {
        "id": "w__5IADO_-lz",
        "outputId": "5ba27627-2cf4-4bdb-95c7-bb871ba45cc5",
        "colab": {
          "base_uri": "https://localhost:8080/"
        }
      },
      "source": [
        "data.columns"
      ],
      "execution_count": 29,
      "outputs": [
        {
          "output_type": "execute_result",
          "data": {
            "text/plain": [
              "Index(['Rank', 'Title', 'Genre', 'Description', 'Director', 'Actors', 'Year',\n",
              "       'Runtime (Minutes)', 'Rating', 'Votes', 'Revenue (Millions)',\n",
              "       'Metascore'],\n",
              "      dtype='object')"
            ]
          },
          "metadata": {},
          "execution_count": 29
        }
      ]
    },
    {
      "cell_type": "code",
      "metadata": {
        "id": "esOdD_dj_-l0",
        "outputId": "6b21f3bd-847a-4422-b30d-b4587e172f70",
        "colab": {
          "base_uri": "https://localhost:8080/"
        }
      },
      "source": [
        "data[data['Revenue (Millions)']==data['Revenue (Millions)'].max()]['Title']"
      ],
      "execution_count": 30,
      "outputs": [
        {
          "output_type": "execute_result",
          "data": {
            "text/plain": [
              "50    Star Wars: Episode VII - The Force Awakens\n",
              "Name: Title, dtype: object"
            ]
          },
          "metadata": {},
          "execution_count": 30
        }
      ]
    },
    {
      "cell_type": "markdown",
      "metadata": {
        "id": "6kNmwk2__-l0"
      },
      "source": [
        "#### Display Top 10 Highest Rated Movie Titles And its Directors"
      ]
    },
    {
      "cell_type": "code",
      "metadata": {
        "id": "bRNq7qKE_-l0",
        "outputId": "9108e9c0-df77-4ef7-951b-f9e75e79868b",
        "colab": {
          "base_uri": "https://localhost:8080/",
          "height": 0
        }
      },
      "source": [
        "top10_len = data.nlargest(10, 'Rating')[['Title','Rating','Director']]\\\n",
        ".set_index('Title')\n",
        "top10_len"
      ],
      "execution_count": 31,
      "outputs": [
        {
          "output_type": "execute_result",
          "data": {
            "text/html": [
              "<div>\n",
              "<style scoped>\n",
              "    .dataframe tbody tr th:only-of-type {\n",
              "        vertical-align: middle;\n",
              "    }\n",
              "\n",
              "    .dataframe tbody tr th {\n",
              "        vertical-align: top;\n",
              "    }\n",
              "\n",
              "    .dataframe thead th {\n",
              "        text-align: right;\n",
              "    }\n",
              "</style>\n",
              "<table border=\"1\" class=\"dataframe\">\n",
              "  <thead>\n",
              "    <tr style=\"text-align: right;\">\n",
              "      <th></th>\n",
              "      <th>Rating</th>\n",
              "      <th>Director</th>\n",
              "    </tr>\n",
              "    <tr>\n",
              "      <th>Title</th>\n",
              "      <th></th>\n",
              "      <th></th>\n",
              "    </tr>\n",
              "  </thead>\n",
              "  <tbody>\n",
              "    <tr>\n",
              "      <th>The Dark Knight</th>\n",
              "      <td>9.0</td>\n",
              "      <td>Christopher Nolan</td>\n",
              "    </tr>\n",
              "    <tr>\n",
              "      <th>Inception</th>\n",
              "      <td>8.8</td>\n",
              "      <td>Christopher Nolan</td>\n",
              "    </tr>\n",
              "    <tr>\n",
              "      <th>Interstellar</th>\n",
              "      <td>8.6</td>\n",
              "      <td>Christopher Nolan</td>\n",
              "    </tr>\n",
              "    <tr>\n",
              "      <th>Kimi no na wa</th>\n",
              "      <td>8.6</td>\n",
              "      <td>Makoto Shinkai</td>\n",
              "    </tr>\n",
              "    <tr>\n",
              "      <th>The Intouchables</th>\n",
              "      <td>8.6</td>\n",
              "      <td>Olivier Nakache</td>\n",
              "    </tr>\n",
              "    <tr>\n",
              "      <th>The Prestige</th>\n",
              "      <td>8.5</td>\n",
              "      <td>Christopher Nolan</td>\n",
              "    </tr>\n",
              "    <tr>\n",
              "      <th>The Departed</th>\n",
              "      <td>8.5</td>\n",
              "      <td>Martin Scorsese</td>\n",
              "    </tr>\n",
              "    <tr>\n",
              "      <th>The Dark Knight Rises</th>\n",
              "      <td>8.5</td>\n",
              "      <td>Christopher Nolan</td>\n",
              "    </tr>\n",
              "    <tr>\n",
              "      <th>Whiplash</th>\n",
              "      <td>8.5</td>\n",
              "      <td>Damien Chazelle</td>\n",
              "    </tr>\n",
              "    <tr>\n",
              "      <th>The Lives of Others</th>\n",
              "      <td>8.5</td>\n",
              "      <td>Florian Henckel von Donnersmarck</td>\n",
              "    </tr>\n",
              "  </tbody>\n",
              "</table>\n",
              "</div>"
            ],
            "text/plain": [
              "                       Rating                          Director\n",
              "Title                                                          \n",
              "The Dark Knight           9.0                 Christopher Nolan\n",
              "Inception                 8.8                 Christopher Nolan\n",
              "Interstellar              8.6                 Christopher Nolan\n",
              "Kimi no na wa             8.6                    Makoto Shinkai\n",
              "The Intouchables          8.6                   Olivier Nakache\n",
              "The Prestige              8.5                 Christopher Nolan\n",
              "The Departed              8.5                   Martin Scorsese\n",
              "The Dark Knight Rises     8.5                 Christopher Nolan\n",
              "Whiplash                  8.5                   Damien Chazelle\n",
              "The Lives of Others       8.5  Florian Henckel von Donnersmarck"
            ]
          },
          "metadata": {},
          "execution_count": 31
        }
      ]
    },
    {
      "cell_type": "code",
      "metadata": {
        "id": "w5jynA6A_-l1",
        "outputId": "1e7a5b51-f5c4-414a-8a75-10f40b8c23cb",
        "colab": {
          "base_uri": "https://localhost:8080/",
          "height": 0
        }
      },
      "source": [
        "sns.barplot(x='Rating', y = top10_len.index, data = top10_len, hue = 'Director', dodge = False)\n",
        "plt.legend(bbox_to_anchor=(1.05,1), loc = 2)"
      ],
      "execution_count": 32,
      "outputs": [
        {
          "output_type": "execute_result",
          "data": {
            "text/plain": [
              "<matplotlib.legend.Legend at 0x7f54280b8950>"
            ]
          },
          "metadata": {},
          "execution_count": 32
        },
        {
          "output_type": "display_data",
          "data": {
            "image/png": "[encoded data removed]",
            "text/plain": [
              "<Figure size 432x288 with 1 Axes>"
            ]
          },
          "metadata": {
            "needs_background": "light"
          }
        }
      ]
    },
    {
      "cell_type": "markdown",
      "metadata": {
        "id": "wxz5h434_-l1"
      },
      "source": [
        "#### Display Top 10 Highest Revenue Movie Titles"
      ]
    },
    {
      "cell_type": "code",
      "metadata": {
        "id": "mFgMLiEz_-l2",
        "outputId": "08634a8e-a230-49e4-9cae-c109700c3dc6",
        "colab": {
          "base_uri": "https://localhost:8080/",
          "height": 0
        }
      },
      "source": [
        "top10_len = data.nlargest(10, 'Revenue (Millions)')[['Title','Revenue (Millions)']]\\\n",
        ".set_index('Title')\n",
        "top10_len"
      ],
      "execution_count": 33,
      "outputs": [
        {
          "output_type": "execute_result",
          "data": {
            "text/html": [
              "<div>\n",
              "<style scoped>\n",
              "    .dataframe tbody tr th:only-of-type {\n",
              "        vertical-align: middle;\n",
              "    }\n",
              "\n",
              "    .dataframe tbody tr th {\n",
              "        vertical-align: top;\n",
              "    }\n",
              "\n",
              "    .dataframe thead th {\n",
              "        text-align: right;\n",
              "    }\n",
              "</style>\n",
              "<table border=\"1\" class=\"dataframe\">\n",
              "  <thead>\n",
              "    <tr style=\"text-align: right;\">\n",
              "      <th></th>\n",
              "      <th>Revenue (Millions)</th>\n",
              "    </tr>\n",
              "    <tr>\n",
              "      <th>Title</th>\n",
              "      <th></th>\n",
              "    </tr>\n",
              "  </thead>\n",
              "  <tbody>\n",
              "    <tr>\n",
              "      <th>Star Wars: Episode VII - The Force Awakens</th>\n",
              "      <td>936.63</td>\n",
              "    </tr>\n",
              "    <tr>\n",
              "      <th>Avatar</th>\n",
              "      <td>760.51</td>\n",
              "    </tr>\n",
              "    <tr>\n",
              "      <th>Jurassic World</th>\n",
              "      <td>652.18</td>\n",
              "    </tr>\n",
              "    <tr>\n",
              "      <th>The Avengers</th>\n",
              "      <td>623.28</td>\n",
              "    </tr>\n",
              "    <tr>\n",
              "      <th>The Dark Knight</th>\n",
              "      <td>533.32</td>\n",
              "    </tr>\n",
              "    <tr>\n",
              "      <th>Rogue One</th>\n",
              "      <td>532.17</td>\n",
              "    </tr>\n",
              "    <tr>\n",
              "      <th>Finding Dory</th>\n",
              "      <td>486.29</td>\n",
              "    </tr>\n",
              "    <tr>\n",
              "      <th>Avengers: Age of Ultron</th>\n",
              "      <td>458.99</td>\n",
              "    </tr>\n",
              "    <tr>\n",
              "      <th>The Dark Knight Rises</th>\n",
              "      <td>448.13</td>\n",
              "    </tr>\n",
              "    <tr>\n",
              "      <th>The Hunger Games: Catching Fire</th>\n",
              "      <td>424.65</td>\n",
              "    </tr>\n",
              "  </tbody>\n",
              "</table>\n",
              "</div>"
            ],
            "text/plain": [
              "                                            Revenue (Millions)\n",
              "Title                                                         \n",
              "Star Wars: Episode VII - The Force Awakens              936.63\n",
              "Avatar                                                  760.51\n",
              "Jurassic World                                          652.18\n",
              "The Avengers                                            623.28\n",
              "The Dark Knight                                         533.32\n",
              "Rogue One                                               532.17\n",
              "Finding Dory                                            486.29\n",
              "Avengers: Age of Ultron                                 458.99\n",
              "The Dark Knight Rises                                   448.13\n",
              "The Hunger Games: Catching Fire                         424.65"
            ]
          },
          "metadata": {},
          "execution_count": 33
        }
      ]
    },
    {
      "cell_type": "code",
      "metadata": {
        "id": "blVHZCKc_-l2",
        "outputId": "cc56aefe-f2af-4cb6-98e2-7b92a3f39c1b",
        "colab": {
          "base_uri": "https://localhost:8080/",
          "height": 0
        }
      },
      "source": [
        "sns.barplot(x = 'Revenue (Millions)', y = top10_len.index, data = top10_len)"
      ],
      "execution_count": 34,
      "outputs": [
        {
          "output_type": "execute_result",
          "data": {
            "text/plain": [
              "<matplotlib.axes._subplots.AxesSubplot at 0x7f5427f3b750>"
            ]
          },
          "metadata": {},
          "execution_count": 34
        },
        {
          "output_type": "display_data",
          "data": {
            "image/png": "[encoded data removed]",
            "text/plain": [
              "<Figure size 432x288 with 1 Axes>"
            ]
          },
          "metadata": {
            "needs_background": "light"
          }
        }
      ]
    },
    {
      "cell_type": "markdown",
      "metadata": {
        "id": "IopvNFX__-l3"
      },
      "source": [
        "#### Find Average Rating of Movies Year Wise"
      ]
    },
    {
      "cell_type": "code",
      "metadata": {
        "id": "8REGiD9j_-l3",
        "outputId": "cca028a3-8ac4-4b9c-82b0-b0c530dcf90e",
        "colab": {
          "base_uri": "https://localhost:8080/"
        }
      },
      "source": [
        "data.columns"
      ],
      "execution_count": 35,
      "outputs": [
        {
          "output_type": "execute_result",
          "data": {
            "text/plain": [
              "Index(['Rank', 'Title', 'Genre', 'Description', 'Director', 'Actors', 'Year',\n",
              "       'Runtime (Minutes)', 'Rating', 'Votes', 'Revenue (Millions)',\n",
              "       'Metascore'],\n",
              "      dtype='object')"
            ]
          },
          "metadata": {},
          "execution_count": 35
        }
      ]
    },
    {
      "cell_type": "code",
      "metadata": {
        "id": "HMevylPo_-l4",
        "outputId": "87a246bf-69ed-416a-e882-a4c1cd96ebde",
        "colab": {
          "base_uri": "https://localhost:8080/"
        }
      },
      "source": [
        "data.groupby('Year')['Rating'].mean().sort_values(ascending = True)"
      ],
      "execution_count": 36,
      "outputs": [
        {
          "output_type": "execute_result",
          "data": {
            "text/plain": [
              "Year\n",
              "2016    6.644444\n",
              "2015    6.674312\n",
              "2008    6.708333\n",
              "2014    6.822581\n",
              "2013    6.832143\n",
              "2010    6.894737\n",
              "2009    6.911111\n",
              "2012    6.933871\n",
              "2011    6.945614\n",
              "2007    7.140909\n",
              "2006    7.143902\n",
              "Name: Rating, dtype: float64"
            ]
          },
          "metadata": {},
          "execution_count": 36
        }
      ]
    },
    {
      "cell_type": "markdown",
      "metadata": {
        "id": "DAE-Alwx_-l4"
      },
      "source": [
        "#### Does Rating Affect The Revenue?"
      ]
    },
    {
      "cell_type": "code",
      "metadata": {
        "id": "LrFa8LM__-l4",
        "outputId": "db563e8a-9f99-4240-de69-2db053e18b0d",
        "colab": {
          "base_uri": "https://localhost:8080/",
          "height": 0
        }
      },
      "source": [
        "sns.scatterplot( x = 'Rating', y = 'Revenue (Millions)', data = data)"
      ],
      "execution_count": 37,
      "outputs": [
        {
          "output_type": "execute_result",
          "data": {
            "text/plain": [
              "<matplotlib.axes._subplots.AxesSubplot at 0x7f5427e4d0d0>"
            ]
          },
          "metadata": {},
          "execution_count": 37
        },
        {
          "output_type": "display_data",
          "data": {
            "image/png": "[encoded data removed]",
            "text/plain": [
              "<Figure size 432x288 with 1 Axes>"
            ]
          },
          "metadata": {
            "needs_background": "light"
          }
        }
      ]
    },
    {
      "cell_type": "markdown",
      "metadata": {
        "id": "Hc3r58-n_-l5"
      },
      "source": [
        "#### Classify Movies Based on Ratings [Excellent, Good, and Average]"
      ]
    },
    {
      "cell_type": "code",
      "metadata": {
        "id": "L_OoBQXa_-l5"
      },
      "source": [
        "def rating(rating):\n",
        "    if rating<=7.0:\n",
        "        return 'Excellent'\n",
        "    elif rating>=6.0:\n",
        "        return 'Good'\n",
        "    else:\n",
        "        return 'Average'"
      ],
      "execution_count": 38,
      "outputs": []
    },
    {
      "cell_type": "code",
      "metadata": {
        "id": "XYXrTiwE_-l5"
      },
      "source": [
        "data['rating_cat'] = data['Rating'].apply(rating)"
      ],
      "execution_count": 39,
      "outputs": []
    },
    {
      "cell_type": "code",
      "metadata": {
        "id": "LaW1ebj__-l6",
        "outputId": "4d65bcd3-dc34-4834-cec0-e30a92e57206",
        "colab": {
          "base_uri": "https://localhost:8080/",
          "height": 0
        }
      },
      "source": [
        "data.head()"
      ],
      "execution_count": 40,
      "outputs": [
        {
          "output_type": "execute_result",
          "data": {
            "text/html": [
              "<div>\n",
              "<style scoped>\n",
              "    .dataframe tbody tr th:only-of-type {\n",
              "        vertical-align: middle;\n",
              "    }\n",
              "\n",
              "    .dataframe tbody tr th {\n",
              "        vertical-align: top;\n",
              "    }\n",
              "\n",
              "    .dataframe thead th {\n",
              "        text-align: right;\n",
              "    }\n",
              "</style>\n",
              "<table border=\"1\" class=\"dataframe\">\n",
              "  <thead>\n",
              "    <tr style=\"text-align: right;\">\n",
              "      <th></th>\n",
              "      <th>Rank</th>\n",
              "      <th>Title</th>\n",
              "      <th>Genre</th>\n",
              "      <th>Description</th>\n",
              "      <th>Director</th>\n",
              "      <th>Actors</th>\n",
              "      <th>Year</th>\n",
              "      <th>Runtime (Minutes)</th>\n",
              "      <th>Rating</th>\n",
              "      <th>Votes</th>\n",
              "      <th>Revenue (Millions)</th>\n",
              "      <th>Metascore</th>\n",
              "      <th>rating_cat</th>\n",
              "    </tr>\n",
              "  </thead>\n",
              "  <tbody>\n",
              "    <tr>\n",
              "      <th>0</th>\n",
              "      <td>1</td>\n",
              "      <td>Guardians of the Galaxy</td>\n",
              "      <td>Action,Adventure,Sci-Fi</td>\n",
              "      <td>A group of intergalactic criminals are forced ...</td>\n",
              "      <td>James Gunn</td>\n",
              "      <td>Chris Pratt, Vin Diesel, Bradley Cooper, Zoe S...</td>\n",
              "      <td>2014</td>\n",
              "      <td>121</td>\n",
              "      <td>8.1</td>\n",
              "      <td>757074</td>\n",
              "      <td>333.13</td>\n",
              "      <td>76.0</td>\n",
              "      <td>Good</td>\n",
              "    </tr>\n",
              "    <tr>\n",
              "      <th>1</th>\n",
              "      <td>2</td>\n",
              "      <td>Prometheus</td>\n",
              "      <td>Adventure,Mystery,Sci-Fi</td>\n",
              "      <td>Following clues to the origin of mankind, a te...</td>\n",
              "      <td>Ridley Scott</td>\n",
              "      <td>Noomi Rapace, Logan Marshall-Green, Michael Fa...</td>\n",
              "      <td>2012</td>\n",
              "      <td>124</td>\n",
              "      <td>7.0</td>\n",
              "      <td>485820</td>\n",
              "      <td>126.46</td>\n",
              "      <td>65.0</td>\n",
              "      <td>Excellent</td>\n",
              "    </tr>\n",
              "    <tr>\n",
              "      <th>2</th>\n",
              "      <td>3</td>\n",
              "      <td>Split</td>\n",
              "      <td>Horror,Thriller</td>\n",
              "      <td>Three girls are kidnapped by a man with a diag...</td>\n",
              "      <td>M. Night Shyamalan</td>\n",
              "      <td>James McAvoy, Anya Taylor-Joy, Haley Lu Richar...</td>\n",
              "      <td>2016</td>\n",
              "      <td>117</td>\n",
              "      <td>7.3</td>\n",
              "      <td>157606</td>\n",
              "      <td>138.12</td>\n",
              "      <td>62.0</td>\n",
              "      <td>Good</td>\n",
              "    </tr>\n",
              "    <tr>\n",
              "      <th>3</th>\n",
              "      <td>4</td>\n",
              "      <td>Sing</td>\n",
              "      <td>Animation,Comedy,Family</td>\n",
              "      <td>In a city of humanoid animals, a hustling thea...</td>\n",
              "      <td>Christophe Lourdelet</td>\n",
              "      <td>Matthew McConaughey,Reese Witherspoon, Seth Ma...</td>\n",
              "      <td>2016</td>\n",
              "      <td>108</td>\n",
              "      <td>7.2</td>\n",
              "      <td>60545</td>\n",
              "      <td>270.32</td>\n",
              "      <td>59.0</td>\n",
              "      <td>Good</td>\n",
              "    </tr>\n",
              "    <tr>\n",
              "      <th>4</th>\n",
              "      <td>5</td>\n",
              "      <td>Suicide Squad</td>\n",
              "      <td>Action,Adventure,Fantasy</td>\n",
              "      <td>A secret government agency recruits some of th...</td>\n",
              "      <td>David Ayer</td>\n",
              "      <td>Will Smith, Jared Leto, Margot Robbie, Viola D...</td>\n",
              "      <td>2016</td>\n",
              "      <td>123</td>\n",
              "      <td>6.2</td>\n",
              "      <td>393727</td>\n",
              "      <td>325.02</td>\n",
              "      <td>40.0</td>\n",
              "      <td>Excellent</td>\n",
              "    </tr>\n",
              "  </tbody>\n",
              "</table>\n",
              "</div>"
            ],
            "text/plain": [
              "   Rank                    Title  ... Metascore rating_cat\n",
              "0     1  Guardians of the Galaxy  ...      76.0       Good\n",
              "1     2               Prometheus  ...      65.0  Excellent\n",
              "2     3                    Split  ...      62.0       Good\n",
              "3     4                     Sing  ...      59.0       Good\n",
              "4     5            Suicide Squad  ...      40.0  Excellent\n",
              "\n",
              "[5 rows x 13 columns]"
            ]
          },
          "metadata": {},
          "execution_count": 40
        }
      ]
    },
    {
      "cell_type": "markdown",
      "metadata": {
        "id": "CtCuuk--_-l6"
      },
      "source": [
        "#### Count Number of Action Movies"
      ]
    },
    {
      "cell_type": "code",
      "metadata": {
        "id": "FZCe--Ru_-l6",
        "outputId": "86d9a8ae-99ec-4003-bf7d-a4d5d032a946",
        "colab": {
          "base_uri": "https://localhost:8080/"
        }
      },
      "source": [
        "data.columns"
      ],
      "execution_count": 41,
      "outputs": [
        {
          "output_type": "execute_result",
          "data": {
            "text/plain": [
              "Index(['Rank', 'Title', 'Genre', 'Description', 'Director', 'Actors', 'Year',\n",
              "       'Runtime (Minutes)', 'Rating', 'Votes', 'Revenue (Millions)',\n",
              "       'Metascore', 'rating_cat'],\n",
              "      dtype='object')"
            ]
          },
          "metadata": {},
          "execution_count": 41
        }
      ]
    },
    {
      "cell_type": "code",
      "metadata": {
        "id": "NoxA2cy2_-l7",
        "outputId": "8607b9ac-6ff8-4065-8e32-a8614fbd7dd1",
        "colab": {
          "base_uri": "https://localhost:8080/"
        }
      },
      "source": [
        "data['Genre'].dtype"
      ],
      "execution_count": 42,
      "outputs": [
        {
          "output_type": "execute_result",
          "data": {
            "text/plain": [
              "dtype('O')"
            ]
          },
          "metadata": {},
          "execution_count": 42
        }
      ]
    },
    {
      "cell_type": "code",
      "metadata": {
        "id": "_b-nNQsl_-l7",
        "outputId": "c408e634-d7f4-431d-c514-80ed49cfb507",
        "colab": {
          "base_uri": "https://localhost:8080/"
        }
      },
      "source": [
        "len(data[data['Genre'].str.contains('Action', case = False)])"
      ],
      "execution_count": 43,
      "outputs": [
        {
          "output_type": "execute_result",
          "data": {
            "text/plain": [
              "277"
            ]
          },
          "metadata": {},
          "execution_count": 43
        }
      ]
    },
    {
      "cell_type": "markdown",
      "metadata": {
        "id": "xfS4bySa_-l8"
      },
      "source": [
        "#### Find Unique Values From Genre"
      ]
    },
    {
      "cell_type": "code",
      "metadata": {
        "id": "bh_P20uJ_-l8",
        "outputId": "a75ce5be-6b56-47f6-a150-29346914d302",
        "colab": {
          "base_uri": "https://localhost:8080/"
        }
      },
      "source": [
        "data['Genre']"
      ],
      "execution_count": 44,
      "outputs": [
        {
          "output_type": "execute_result",
          "data": {
            "text/plain": [
              "0       Action,Adventure,Sci-Fi\n",
              "1      Adventure,Mystery,Sci-Fi\n",
              "2               Horror,Thriller\n",
              "3       Animation,Comedy,Family\n",
              "4      Action,Adventure,Fantasy\n",
              "                 ...           \n",
              "993     Action,Adventure,Horror\n",
              "994                      Comedy\n",
              "996                      Horror\n",
              "997         Drama,Music,Romance\n",
              "999       Comedy,Family,Fantasy\n",
              "Name: Genre, Length: 838, dtype: object"
            ]
          },
          "metadata": {},
          "execution_count": 44
        }
      ]
    },
    {
      "cell_type": "code",
      "metadata": {
        "id": "rdR-cMjL_-mB"
      },
      "source": [
        "list1 = []\n",
        "for value in data['Genre']:\n",
        "    list1.append(value.split(','))"
      ],
      "execution_count": 45,
      "outputs": []
    },
    {
      "cell_type": "code",
      "metadata": {
        "id": "fsvG7dOD_-mB",
        "outputId": "80444f21-c5cf-4d8a-e097-39617d3b8320",
        "colab": {
          "base_uri": "https://localhost:8080/"
        }
      },
      "source": [
        "list1"
      ],
      "execution_count": 46,
      "outputs": [
        {
          "output_type": "execute_result",
          "data": {
            "text/plain": [
              "[['Action', 'Adventure', 'Sci-Fi'],\n",
              " ['Adventure', 'Mystery', 'Sci-Fi'],\n",
              " ['Horror', 'Thriller'],\n",
              " ['Animation', 'Comedy', 'Family'],\n",
              " ['Action', 'Adventure', 'Fantasy'],\n",
              " ['Action', 'Adventure', 'Fantasy'],\n",
              " ['Comedy', 'Drama', 'Music'],\n",
              " ['Action', 'Adventure', 'Biography'],\n",
              " ['Adventure', 'Drama', 'Romance'],\n",
              " ['Adventure', 'Family', 'Fantasy'],\n",
              " ['Biography', 'Drama', 'History'],\n",
              " ['Action', 'Adventure', 'Sci-Fi'],\n",
              " ['Animation', 'Adventure', 'Comedy'],\n",
              " ['Action', 'Comedy', 'Drama'],\n",
              " ['Animation', 'Adventure', 'Comedy'],\n",
              " ['Biography', 'Drama', 'History'],\n",
              " ['Action', 'Thriller'],\n",
              " ['Biography', 'Drama'],\n",
              " ['Drama', 'Mystery', 'Sci-Fi'],\n",
              " ['Adventure', 'Drama', 'Thriller'],\n",
              " ['Drama'],\n",
              " ['Animation', 'Adventure', 'Comedy'],\n",
              " ['Action', 'Adventure', 'Sci-Fi'],\n",
              " ['Comedy'],\n",
              " ['Action', 'Adventure', 'Drama'],\n",
              " ['Comedy'],\n",
              " ['Drama', 'Thriller'],\n",
              " ['Action', 'Adventure', 'Sci-Fi'],\n",
              " ['Action', 'Adventure', 'Comedy'],\n",
              " ['Action', 'Horror', 'Sci-Fi'],\n",
              " ['Action', 'Adventure', 'Sci-Fi'],\n",
              " ['Adventure', 'Drama', 'Sci-Fi'],\n",
              " ['Action', 'Adventure', 'Fantasy'],\n",
              " ['Action', 'Adventure', 'Western'],\n",
              " ['Animation', 'Adventure', 'Comedy'],\n",
              " ['Drama'],\n",
              " ['Biography', 'Drama', 'History'],\n",
              " ['Drama'],\n",
              " ['Action', 'Adventure', 'Fantasy'],\n",
              " ['Drama', 'Thriller'],\n",
              " ['Action', 'Adventure', 'Sci-Fi'],\n",
              " ['Action', 'Adventure', 'Fantasy'],\n",
              " ['Action', 'Adventure', 'Fantasy'],\n",
              " ['Comedy', 'Drama'],\n",
              " ['Action', 'Crime', 'Thriller'],\n",
              " ['Action', 'Crime', 'Drama'],\n",
              " ['Adventure', 'Drama', 'History'],\n",
              " ['Crime', 'Horror', 'Thriller'],\n",
              " ['Drama', 'Romance'],\n",
              " ['Comedy', 'Drama', 'Romance'],\n",
              " ['Biography', 'Drama'],\n",
              " ['Action', 'Adventure', 'Sci-Fi'],\n",
              " ['Crime', 'Drama', 'Mystery'],\n",
              " ['Drama', 'Romance', 'Thriller'],\n",
              " ['Drama', 'Mystery', 'Sci-Fi'],\n",
              " ['Action', 'Adventure', 'Comedy'],\n",
              " ['Drama', 'History', 'Thriller'],\n",
              " ['Action', 'Adventure', 'Sci-Fi'],\n",
              " ['Drama'],\n",
              " ['Action', 'Drama', 'Thriller'],\n",
              " ['Action', 'Drama', 'Romance'],\n",
              " ['Drama', 'Fantasy'],\n",
              " ['Drama', 'Romance'],\n",
              " ['Animation', 'Adventure', 'Comedy'],\n",
              " ['Action', 'Adventure', 'Fantasy'],\n",
              " ['Action', 'Sci-Fi'],\n",
              " ['Adventure', 'Drama', 'War'],\n",
              " ['Action', 'Adventure', 'Fantasy'],\n",
              " ['Action', 'Comedy', 'Fantasy'],\n",
              " ['Action', 'Adventure', 'Sci-Fi'],\n",
              " ['Comedy', 'Drama'],\n",
              " ['Biography', 'Comedy', 'Crime'],\n",
              " ['Crime', 'Drama', 'Mystery'],\n",
              " ['Action', 'Crime', 'Thriller'],\n",
              " ['Action', 'Adventure', 'Sci-Fi'],\n",
              " ['Crime', 'Drama'],\n",
              " ['Action', 'Adventure', 'Fantasy'],\n",
              " ['Crime', 'Drama', 'Mystery'],\n",
              " ['Action', 'Crime', 'Drama'],\n",
              " ['Crime', 'Drama', 'Mystery'],\n",
              " ['Action', 'Adventure', 'Fantasy'],\n",
              " ['Drama'],\n",
              " ['Comedy', 'Crime', 'Drama'],\n",
              " ['Action', 'Adventure', 'Sci-Fi'],\n",
              " ['Action', 'Comedy', 'Crime'],\n",
              " ['Animation', 'Drama', 'Fantasy'],\n",
              " ['Horror', 'Mystery', 'Sci-Fi'],\n",
              " ['Drama', 'Mystery', 'Thriller'],\n",
              " ['Crime', 'Drama', 'Thriller'],\n",
              " ['Biography', 'Crime', 'Drama'],\n",
              " ['Action', 'Adventure', 'Fantasy'],\n",
              " ['Adventure', 'Drama', 'Sci-Fi'],\n",
              " ['Action', 'Adventure', 'Comedy'],\n",
              " ['Crime', 'Drama', 'Thriller'],\n",
              " ['Comedy'],\n",
              " ['Action', 'Adventure', 'Drama'],\n",
              " ['Drama', 'Mystery', 'Sci-Fi'],\n",
              " ['Action', 'Horror', 'Thriller'],\n",
              " ['Biography', 'Drama', 'History'],\n",
              " ['Action', 'Fantasy', 'War'],\n",
              " ['Adventure', 'Drama', 'Fantasy'],\n",
              " ['Comedy'],\n",
              " ['Horror', 'Thriller'],\n",
              " ['Drama', 'Horror', 'Mystery'],\n",
              " ['Animation', 'Adventure', 'Comedy'],\n",
              " ['Adventure', 'Drama', 'Family'],\n",
              " ['Adventure', 'Mystery', 'Sci-Fi'],\n",
              " ['Adventure', 'Comedy', 'Romance'],\n",
              " ['Action', 'Thriller'],\n",
              " ['Adventure', 'Drama', 'Family'],\n",
              " ['Action', 'Adventure', 'Sci-Fi'],\n",
              " ['Adventure', 'Crime', 'Mystery'],\n",
              " ['Comedy', 'Family', 'Musical'],\n",
              " ['Adventure', 'Drama', 'Thriller'],\n",
              " ['Drama'],\n",
              " ['Adventure', 'Comedy', 'Drama'],\n",
              " ['Drama', 'Horror', 'Thriller'],\n",
              " ['Drama', 'Music'],\n",
              " ['Action', 'Crime', 'Thriller'],\n",
              " ['Crime', 'Drama', 'Thriller'],\n",
              " ['Crime', 'Drama', 'Thriller'],\n",
              " ['Drama', 'Romance'],\n",
              " ['Mystery', 'Thriller'],\n",
              " ['Action', 'Adventure', 'Sci-Fi'],\n",
              " ['Comedy', 'Family'],\n",
              " ['Biography', 'Comedy', 'Drama'],\n",
              " ['Drama'],\n",
              " ['Drama', 'Western'],\n",
              " ['Drama', 'Mystery', 'Romance'],\n",
              " ['Comedy', 'Drama'],\n",
              " ['Action', 'Drama', 'Mystery'],\n",
              " ['Comedy'],\n",
              " ['Action', 'Adventure', 'Crime'],\n",
              " ['Adventure', 'Family', 'Fantasy'],\n",
              " ['Adventure', 'Sci-Fi', 'Thriller'],\n",
              " ['Drama'],\n",
              " ['Action', 'Crime', 'Drama'],\n",
              " ['Action', 'Horror', 'Sci-Fi'],\n",
              " ['Action', 'Adventure', 'Sci-Fi'],\n",
              " ['Comedy', 'Drama', 'Romance'],\n",
              " ['Action', 'Comedy', 'Fantasy'],\n",
              " ['Action', 'Comedy', 'Mystery'],\n",
              " ['Action', 'Comedy', 'Crime'],\n",
              " ['Action', 'Adventure', 'Sci-Fi'],\n",
              " ['Action', 'Adventure', 'Crime'],\n",
              " ['Action', 'Adventure', 'Thriller'],\n",
              " ['Drama', 'Fantasy', 'Romance'],\n",
              " ['Action', 'Adventure', 'Comedy'],\n",
              " ['Biography', 'Drama', 'History'],\n",
              " ['Action', 'Drama', 'History'],\n",
              " ['Action', 'Adventure', 'Thriller'],\n",
              " ['Crime', 'Drama', 'Thriller'],\n",
              " ['Animation', 'Adventure', 'Family'],\n",
              " ['Drama', 'Romance', 'Sci-Fi'],\n",
              " ['Animation', 'Adventure', 'Comedy'],\n",
              " ['Action', 'Adventure', 'Family'],\n",
              " ['Action', 'Adventure', 'Drama'],\n",
              " ['Action', 'Comedy'],\n",
              " ['Horror', 'Mystery', 'Thriller'],\n",
              " ['Action', 'Adventure', 'Comedy'],\n",
              " ['Comedy', 'Romance'],\n",
              " ['Horror', 'Mystery'],\n",
              " ['Drama', 'Family', 'Fantasy'],\n",
              " ['Drama', 'Thriller'],\n",
              " ['Drama', 'War'],\n",
              " ['Drama', 'Fantasy', 'Horror'],\n",
              " ['Crime', 'Drama'],\n",
              " ['Comedy', 'Drama', 'Romance'],\n",
              " ['Drama', 'Romance'],\n",
              " ['Crime', 'Drama', 'History'],\n",
              " ['Horror', 'Sci-Fi', 'Thriller'],\n",
              " ['Action', 'Drama', 'Sport'],\n",
              " ['Action', 'Adventure', 'Sci-Fi'],\n",
              " ['Adventure', 'Biography', 'Drama'],\n",
              " ['Biography', 'Drama', 'Thriller'],\n",
              " ['Action', 'Comedy', 'Crime'],\n",
              " ['Action', 'Adventure', 'Sci-Fi'],\n",
              " ['Drama', 'Fantasy', 'Horror'],\n",
              " ['Biography', 'Drama', 'Thriller'],\n",
              " ['Action', 'Adventure', 'Sci-Fi'],\n",
              " ['Action', 'Adventure', 'Mystery'],\n",
              " ['Action', 'Adventure', 'Sci-Fi'],\n",
              " ['Drama', 'Horror'],\n",
              " ['Comedy', 'Drama', 'Romance'],\n",
              " ['Comedy', 'Romance'],\n",
              " ['Action', 'Adventure', 'Drama'],\n",
              " ['Drama'],\n",
              " ['Action', 'Adventure', 'Sci-Fi'],\n",
              " ['Action', 'Adventure', 'Fantasy'],\n",
              " ['Action', 'Adventure', 'Fantasy'],\n",
              " ['Action', 'Adventure', 'Sci-Fi'],\n",
              " ['Action', 'Adventure', 'Comedy'],\n",
              " ['Action', 'Comedy'],\n",
              " ['Action', 'Adventure', 'Sci-Fi'],\n",
              " ['Animation', 'Adventure', 'Comedy'],\n",
              " ['Horror', 'Mystery'],\n",
              " ['Crime', 'Drama', 'Mystery'],\n",
              " ['Comedy', 'Crime'],\n",
              " ['Drama'],\n",
              " ['Comedy', 'Drama', 'Romance'],\n",
              " ['Action', 'Adventure', 'Sci-Fi'],\n",
              " ['Action', 'Adventure', 'Family'],\n",
              " ['Drama', 'Fantasy', 'War'],\n",
              " ['Crime', 'Drama', 'Thriller'],\n",
              " ['Action', 'Adventure', 'Drama'],\n",
              " ['Action', 'Adventure', 'Thriller'],\n",
              " ['Action', 'Adventure', 'Drama'],\n",
              " ['Drama', 'Romance'],\n",
              " ['Biography', 'Drama', 'History'],\n",
              " ['Drama', 'Horror', 'Thriller'],\n",
              " ['Adventure', 'Comedy', 'Drama'],\n",
              " ['Action', 'Adventure', 'Romance'],\n",
              " ['Action', 'Drama', 'War'],\n",
              " ['Animation', 'Adventure', 'Comedy'],\n",
              " ['Animation', 'Adventure', 'Comedy'],\n",
              " ['Action', 'Adventure', 'Sci-Fi'],\n",
              " ['Adventure', 'Family', 'Fantasy'],\n",
              " ['Drama', 'Musical', 'Romance'],\n",
              " ['Drama', 'Sci-Fi', 'Thriller'],\n",
              " ['Comedy', 'Drama'],\n",
              " ['Action', 'Comedy', 'Crime'],\n",
              " ['Biography', 'Comedy', 'Drama'],\n",
              " ['Comedy', 'Drama', 'Romance'],\n",
              " ['Drama', 'Thriller'],\n",
              " ['Biography', 'Drama', 'History'],\n",
              " ['Action', 'Adventure', 'Sci-Fi'],\n",
              " ['Horror', 'Mystery', 'Thriller'],\n",
              " ['Comedy'],\n",
              " ['Action', 'Adventure', 'Sci-Fi'],\n",
              " ['Action', 'Drama', 'Sci-Fi'],\n",
              " ['Horror'],\n",
              " ['Drama', 'Thriller'],\n",
              " ['Comedy', 'Drama', 'Romance'],\n",
              " ['Drama', 'Thriller'],\n",
              " ['Comedy', 'Drama'],\n",
              " ['Drama'],\n",
              " ['Action', 'Adventure', 'Comedy'],\n",
              " ['Drama', 'Horror', 'Thriller'],\n",
              " ['Comedy'],\n",
              " ['Drama', 'Sci-Fi'],\n",
              " ['Action', 'Adventure', 'Sci-Fi'],\n",
              " ['Action', 'Adventure', 'Thriller'],\n",
              " ['Adventure', 'Fantasy'],\n",
              " ['Action', 'Comedy', 'Crime'],\n",
              " ['Comedy', 'Drama', 'Music'],\n",
              " ['Action', 'Adventure', 'Mystery'],\n",
              " ['Action', 'Comedy', 'Crime'],\n",
              " ['Crime', 'Drama', 'History'],\n",
              " ['Comedy'],\n",
              " ['Action', 'Adventure', 'Sci-Fi'],\n",
              " ['Crime', 'Mystery', 'Thriller'],\n",
              " ['Action', 'Adventure', 'Crime'],\n",
              " ['Biography', 'Drama', 'Romance'],\n",
              " ['Action', 'Adventure'],\n",
              " ['Action', 'Fantasy'],\n",
              " ['Action', 'Comedy'],\n",
              " ['Action', 'Adventure', 'Sci-Fi'],\n",
              " ['Action', 'Comedy', 'Crime'],\n",
              " ['Action', 'Drama', 'Horror'],\n",
              " ['Comedy', 'Music', 'Romance'],\n",
              " ['Comedy'],\n",
              " ['Action', 'Adventure', 'Fantasy'],\n",
              " ['Drama', 'Romance'],\n",
              " ['Animation', 'Adventure', 'Comedy'],\n",
              " ['Comedy', 'Drama'],\n",
              " ['Biography', 'Crime', 'Drama'],\n",
              " ['Drama', 'History'],\n",
              " ['Action', 'Crime', 'Thriller'],\n",
              " ['Action', 'Biography', 'Drama'],\n",
              " ['Horror'],\n",
              " ['Comedy', 'Romance'],\n",
              " ['Comedy', 'Romance'],\n",
              " ['Comedy', 'Crime', 'Drama'],\n",
              " ['Adventure', 'Family', 'Fantasy'],\n",
              " ['Action', 'Crime', 'Thriller'],\n",
              " ['Comedy', 'Romance'],\n",
              " ['Biography', 'Drama', 'Sport'],\n",
              " ['Drama', 'Romance'],\n",
              " ['Drama', 'Horror'],\n",
              " ['Adventure', 'Fantasy'],\n",
              " ['Adventure', 'Family', 'Fantasy'],\n",
              " ['Action', 'Drama', 'Sci-Fi'],\n",
              " ['Action', 'Adventure', 'Sci-Fi'],\n",
              " ['Comedy', 'Horror', 'Thriller'],\n",
              " ['Action', 'Crime', 'Thriller'],\n",
              " ['Crime', 'Drama', 'Music'],\n",
              " ['Drama'],\n",
              " ['Action', 'Crime', 'Thriller'],\n",
              " ['Action', 'Sci-Fi', 'Thriller'],\n",
              " ['Biography', 'Drama'],\n",
              " ['Action', 'Adventure', 'Fantasy'],\n",
              " ['Drama', 'Horror', 'Sci-Fi'],\n",
              " ['Biography', 'Comedy', 'Drama'],\n",
              " ['Crime', 'Horror', 'Thriller'],\n",
              " ['Crime', 'Drama', 'Mystery'],\n",
              " ['Animation', 'Adventure', 'Comedy'],\n",
              " ['Action', 'Biography', 'Drama'],\n",
              " ['Biography', 'Drama'],\n",
              " ['Biography', 'Drama', 'History'],\n",
              " ['Action', 'Biography', 'Drama'],\n",
              " ['Comedy', 'Drama', 'Romance'],\n",
              " ['Drama', 'Romance'],\n",
              " ['Comedy', 'Romance'],\n",
              " ['Action', 'Crime', 'Thriller'],\n",
              " ['Action', 'Crime', 'Drama'],\n",
              " ['Action', 'Drama', 'Thriller'],\n",
              " ['Adventure', 'Family', 'Fantasy'],\n",
              " ['Action', 'Adventure'],\n",
              " ['Action', 'Adventure', 'Romance'],\n",
              " ['Adventure', 'Family', 'Fantasy'],\n",
              " ['Crime', 'Drama'],\n",
              " ['Comedy', 'Horror'],\n",
              " ['Comedy', 'Fantasy', 'Romance'],\n",
              " ['Drama'],\n",
              " ['Comedy', 'Drama'],\n",
              " ['Comedy', 'Drama', 'Romance'],\n",
              " ['Adventure', 'Sci-Fi', 'Thriller'],\n",
              " ['Action', 'Adventure', 'Fantasy'],\n",
              " ['Biography', 'Drama', 'Romance'],\n",
              " ['Comedy', 'Fantasy'],\n",
              " ['Comedy', 'Drama', 'Fantasy'],\n",
              " ['Comedy'],\n",
              " ['Horror', 'Thriller'],\n",
              " ['Action', 'Adventure', 'Sci-Fi'],\n",
              " ['Adventure', 'Comedy', 'Horror'],\n",
              " ['Comedy', 'Mystery'],\n",
              " ['Drama'],\n",
              " ['Adventure', 'Drama', 'Fantasy'],\n",
              " ['Action', 'Adventure'],\n",
              " ['Action', 'Adventure', 'Drama'],\n",
              " ['Action', 'Drama', 'Sci-Fi'],\n",
              " ['Action', 'Mystery', 'Sci-Fi'],\n",
              " ['Action', 'Crime', 'Drama'],\n",
              " ['Action', 'Crime', 'Fantasy'],\n",
              " ['Biography', 'Comedy', 'Drama'],\n",
              " ['Action', 'Crime', 'Thriller'],\n",
              " ['Biography', 'Crime', 'Drama'],\n",
              " ['Drama', 'Sport'],\n",
              " ['Adventure', 'Comedy', 'Drama'],\n",
              " ['Action', 'Adventure', 'Thriller'],\n",
              " ['Comedy', 'Fantasy', 'Horror'],\n",
              " ['Drama', 'Sport'],\n",
              " ['Drama', 'History', 'Thriller'],\n",
              " ['Animation', 'Action', 'Adventure'],\n",
              " ['Action', 'Adventure', 'Drama'],\n",
              " ['Action', 'Comedy', 'Family'],\n",
              " ['Action', 'Adventure', 'Drama'],\n",
              " ['Action', 'Adventure', 'Sci-Fi'],\n",
              " ['Action', 'Adventure', 'Sci-Fi'],\n",
              " ['Action', 'Comedy'],\n",
              " ['Action', 'Crime', 'Drama'],\n",
              " ['Biography', 'Drama'],\n",
              " ['Comedy'],\n",
              " ['Drama', 'Fantasy', 'Romance'],\n",
              " ['Action', 'Adventure', 'Sci-Fi'],\n",
              " ['Comedy'],\n",
              " ['Comedy', 'Drama'],\n",
              " ['Animation', 'Action', 'Adventure'],\n",
              " ['Animation', 'Adventure', 'Comedy'],\n",
              " ['Drama', 'Romance'],\n",
              " ['Drama', 'Mystery', 'Thriller'],\n",
              " ['Drama', 'History', 'Thriller'],\n",
              " ['Animation', 'Adventure', 'Comedy'],\n",
              " ['Action', 'Adventure', 'Sci-Fi'],\n",
              " ['Adventure', 'Comedy'],\n",
              " ['Action', 'Thriller'],\n",
              " ['Comedy', 'Music'],\n",
              " ['Animation', 'Adventure', 'Comedy'],\n",
              " ['Action', 'Adventure', 'Crime'],\n",
              " ['Comedy', 'Drama', 'Horror'],\n",
              " ['Adventure', 'Family', 'Fantasy'],\n",
              " ['Drama'],\n",
              " ['Action', 'Drama', 'Thriller'],\n",
              " ['Drama'],\n",
              " ['Action', 'Horror', 'Romance'],\n",
              " ['Action', 'Drama', 'Fantasy'],\n",
              " ['Action', 'Crime', 'Drama'],\n",
              " ['Drama', 'Fantasy', 'Romance'],\n",
              " ['Action', 'Crime', 'Thriller'],\n",
              " ['Action', 'Mystery', 'Thriller'],\n",
              " ['Comedy', 'Drama'],\n",
              " ['Comedy'],\n",
              " ['Action', 'Adventure', 'Horror'],\n",
              " ['Action', 'Adventure', 'Thriller'],\n",
              " ['Drama', 'Romance'],\n",
              " ['Drama', 'Thriller'],\n",
              " ['Action', 'Comedy', 'Crime'],\n",
              " ['Adventure', 'Family', 'Fantasy'],\n",
              " ['Drama', 'Romance'],\n",
              " ['Animation', 'Family', 'Fantasy'],\n",
              " ['Drama', 'Romance'],\n",
              " ['Action', 'Sci-Fi'],\n",
              " ['Adventure', 'Comedy', 'Drama'],\n",
              " ['Animation', 'Action', 'Adventure'],\n",
              " ['Drama', 'Horror'],\n",
              " ['Action', 'Adventure', 'Sci-Fi'],\n",
              " ['Comedy', 'Drama'],\n",
              " ['Action', 'Horror', 'Mystery'],\n",
              " ['Action', 'Thriller'],\n",
              " ['Action', 'Adventure', 'Sci-Fi'],\n",
              " ['Drama'],\n",
              " ['Comedy', 'Drama', 'Romance'],\n",
              " ['Comedy', 'Crime'],\n",
              " ['Comedy', 'Romance'],\n",
              " ['Drama', 'Romance'],\n",
              " ['Crime', 'Drama', 'Thriller'],\n",
              " ['Horror', 'Mystery', 'Thriller'],\n",
              " ['Biography', 'Drama'],\n",
              " ['Adventure', 'Comedy', 'Family'],\n",
              " ['Action', 'Adventure', 'Crime'],\n",
              " ['Action', 'Crime', 'Mystery'],\n",
              " ['Mystery', 'Thriller'],\n",
              " ['Action', 'Sci-Fi', 'Thriller'],\n",
              " ['Action', 'Comedy', 'Crime'],\n",
              " ['Biography', 'Crime', 'Drama'],\n",
              " ['Biography', 'Drama', 'History'],\n",
              " ['Action', 'Adventure', 'Sci-Fi'],\n",
              " ['Adventure', 'Family', 'Fantasy'],\n",
              " ['Biography', 'Drama', 'History'],\n",
              " ['Biography', 'Comedy', 'Drama'],\n",
              " ['Drama', 'Thriller'],\n",
              " ['Comedy', 'Drama', 'Romance'],\n",
              " ['Drama', 'Romance', 'Sci-Fi'],\n",
              " ['Action', 'Crime', 'Drama'],\n",
              " ['Adventure', 'Comedy', 'Drama'],\n",
              " ['Comedy', 'Drama', 'Family'],\n",
              " ['Drama', 'Romance', 'Thriller'],\n",
              " ['Comedy', 'Crime', 'Drama'],\n",
              " ['Animation', 'Comedy', 'Family'],\n",
              " ['Drama', 'Horror', 'Sci-Fi'],\n",
              " ['Action', 'Adventure', 'Drama'],\n",
              " ['Action', 'Horror', 'Sci-Fi'],\n",
              " ['Action', 'Crime', 'Sport'],\n",
              " ['Drama', 'Horror', 'Sci-Fi'],\n",
              " ['Drama', 'Horror', 'Sci-Fi'],\n",
              " ['Action', 'Adventure', 'Comedy'],\n",
              " ['Mystery', 'Sci-Fi', 'Thriller'],\n",
              " ['Crime', 'Drama', 'Thriller'],\n",
              " ['Animation', 'Adventure', 'Comedy'],\n",
              " ['Action', 'Sci-Fi', 'Thriller'],\n",
              " ['Drama', 'Romance'],\n",
              " ['Comedy', 'Drama', 'Music'],\n",
              " ['Crime', 'Drama', 'Thriller'],\n",
              " ['Comedy', 'Drama', 'Romance'],\n",
              " ['Comedy', 'Romance'],\n",
              " ['Drama', 'Sci-Fi', 'Thriller'],\n",
              " ['Drama', 'War'],\n",
              " ['Action', 'Crime', 'Drama'],\n",
              " ['Sci-Fi', 'Thriller'],\n",
              " ['Adventure', 'Drama', 'Horror'],\n",
              " ['Comedy', 'Drama', 'Romance'],\n",
              " ['Action', 'Adventure', 'Drama'],\n",
              " ['Action', 'Crime', 'Drama'],\n",
              " ['Adventure', 'Fantasy'],\n",
              " ['Drama', 'Romance'],\n",
              " ['Biography', 'History', 'Thriller'],\n",
              " ['Crime', 'Drama', 'Thriller'],\n",
              " ['Action', 'Drama', 'History'],\n",
              " ['Crime', 'Drama', 'Thriller'],\n",
              " ['Action', 'Biography', 'Drama'],\n",
              " ['Adventure', 'Horror'],\n",
              " ['Action', 'Adventure', 'Sci-Fi'],\n",
              " ['Action', 'Adventure', 'Mystery'],\n",
              " ['Comedy', 'Drama', 'Romance'],\n",
              " ['Horror', 'Thriller'],\n",
              " ['Action', 'Sci-Fi', 'Thriller'],\n",
              " ['Biography', 'Drama'],\n",
              " ['Action', 'Crime', 'Drama'],\n",
              " ['Action', 'Crime', 'Mystery'],\n",
              " ['Action', 'Adventure', 'Comedy'],\n",
              " ['Mystery', 'Thriller'],\n",
              " ['Mystery', 'Sci-Fi', 'Thriller'],\n",
              " ['Drama', 'Mystery', 'Sci-Fi'],\n",
              " ['Comedy', 'Drama'],\n",
              " ['Adventure', 'Family', 'Fantasy'],\n",
              " ['Biography', 'Drama', 'Sport'],\n",
              " ['Comedy', 'Drama', 'Romance'],\n",
              " ['Biography', 'Drama', 'Romance'],\n",
              " ['Action', 'Adventure', 'Sci-Fi'],\n",
              " ['Mystery', 'Thriller'],\n",
              " ['Mystery', 'Thriller'],\n",
              " ['Action', 'Drama', 'Fantasy'],\n",
              " ['Action', 'Adventure', 'Biography'],\n",
              " ['Adventure', 'Comedy', 'Sci-Fi'],\n",
              " ['Action', 'Adventure', 'Thriller'],\n",
              " ['Fantasy', 'Horror'],\n",
              " ['Horror', 'Mystery'],\n",
              " ['Animation', 'Adventure', 'Comedy'],\n",
              " ['Action', 'Adventure', 'Drama'],\n",
              " ['Adventure', 'Family', 'Fantasy'],\n",
              " ['Action', 'Adventure', 'Sci-Fi'],\n",
              " ['Comedy', 'Drama'],\n",
              " ['Comedy', 'Drama'],\n",
              " ['Crime', 'Drama', 'Thriller'],\n",
              " ['Comedy', 'Romance'],\n",
              " ['Animation', 'Comedy', 'Family'],\n",
              " ['Comedy', 'Drama'],\n",
              " ['Comedy', 'Drama'],\n",
              " ['Biography', 'Drama', 'Sport'],\n",
              " ['Action', 'Adventure', 'Fantasy'],\n",
              " ['Action', 'Drama', 'History'],\n",
              " ['Action', 'Adventure', 'Sci-Fi'],\n",
              " ['Action', 'Adventure', 'Mystery'],\n",
              " ['Crime', 'Drama', 'Mystery'],\n",
              " ['Action'],\n",
              " ['Comedy', 'Romance'],\n",
              " ['Comedy', 'Drama', 'Romance'],\n",
              " ['Biography', 'Drama', 'Sport'],\n",
              " ['Action', 'Fantasy', 'Thriller'],\n",
              " ['Biography', 'Drama', 'Sport'],\n",
              " ['Action', 'Drama', 'Fantasy'],\n",
              " ['Adventure', 'Sci-Fi', 'Thriller'],\n",
              " ['Animation', 'Adventure', 'Comedy'],\n",
              " ['Drama', 'Mystery', 'Thriller'],\n",
              " ['Drama', 'Romance'],\n",
              " ['Crime', 'Drama', 'Mystery'],\n",
              " ['Comedy', 'Romance', 'Sport'],\n",
              " ['Comedy', 'Family'],\n",
              " ['Drama', 'Horror', 'Mystery'],\n",
              " ['Action', 'Drama', 'Sport'],\n",
              " ['Action', 'Adventure', 'Comedy'],\n",
              " ['Drama', 'Mystery', 'Sci-Fi'],\n",
              " ['Animation', 'Action', 'Comedy'],\n",
              " ['Action', 'Crime', 'Drama'],\n",
              " ['Action', 'Crime', 'Drama'],\n",
              " ['Animation', 'Action', 'Adventure'],\n",
              " ['Crime', 'Drama'],\n",
              " ['Comedy', 'Crime'],\n",
              " ['Drama'],\n",
              " ['Action', 'Adventure', 'Fantasy'],\n",
              " ['Drama', 'Fantasy', 'Romance'],\n",
              " ['Comedy', 'Drama'],\n",
              " ['Drama', 'Fantasy', 'Thriller'],\n",
              " ['Biography', 'Crime', 'Drama'],\n",
              " ['Comedy', 'Drama', 'Romance'],\n",
              " ['Action', 'Crime', 'Drama'],\n",
              " ['Sci-Fi'],\n",
              " ['Action', 'Comedy', 'Romance'],\n",
              " ['Adventure', 'Comedy', 'Drama'],\n",
              " ['Comedy', 'Crime', 'Drama'],\n",
              " ['Action', 'Fantasy', 'Horror'],\n",
              " ['Drama', 'Horror'],\n",
              " ['Horror'],\n",
              " ['Action', 'Thriller'],\n",
              " ['Action', 'Adventure', 'Mystery'],\n",
              " ['Action', 'Adventure', 'Fantasy'],\n",
              " ['Adventure', 'Comedy', 'Family'],\n",
              " ['Comedy', 'Drama', 'Romance'],\n",
              " ['Comedy'],\n",
              " ['Comedy', 'Drama', 'Horror'],\n",
              " ['Comedy', 'Romance'],\n",
              " ['Mystery', 'Romance', 'Sci-Fi'],\n",
              " ['Crime', 'Drama'],\n",
              " ['Drama', 'Horror', 'Mystery'],\n",
              " ['Comedy'],\n",
              " ['Biography', 'Drama'],\n",
              " ['Comedy', 'Drama', 'Thriller'],\n",
              " ['Drama', 'History', 'War'],\n",
              " ['Comedy', 'Drama'],\n",
              " ['Action', 'Comedy', 'Fantasy'],\n",
              " ['Drama', 'Horror', 'Musical'],\n",
              " ['Horror', 'Mystery', 'Thriller'],\n",
              " ['Comedy', 'Music'],\n",
              " ['Biography', 'Crime', 'Drama'],\n",
              " ['Drama'],\n",
              " ['Action', 'Adventure', 'Comedy'],\n",
              " ['Crime', 'Drama', 'Mystery'],\n",
              " ['Drama'],\n",
              " ['Action', 'Comedy', 'Crime'],\n",
              " ['Comedy', 'Drama', 'Romance'],\n",
              " ['Crime', 'Drama', 'Mystery'],\n",
              " ['Action', 'Comedy', 'Crime'],\n",
              " ['Drama'],\n",
              " ['Drama', 'Romance'],\n",
              " ['Crime', 'Drama', 'Mystery'],\n",
              " ['Adventure', 'Comedy', 'Romance'],\n",
              " ['Comedy', 'Crime', 'Drama'],\n",
              " ['Adventure', 'Drama', 'Thriller'],\n",
              " ['Crime', 'Drama', 'Thriller'],\n",
              " ['Drama', 'History', 'Thriller'],\n",
              " ['Action', 'Adventure', 'Sci-Fi'],\n",
              " ['Horror'],\n",
              " ['Action', 'Crime', 'Mystery'],\n",
              " ['Comedy', 'Romance'],\n",
              " ['Comedy'],\n",
              " ['Action', 'Drama', 'Thriller'],\n",
              " ['Action', 'Adventure', 'Sci-Fi'],\n",
              " ['Drama', 'Mystery', 'Thriller'],\n",
              " ['Comedy', 'Drama', 'Romance'],\n",
              " ['Action', 'Fantasy', 'Horror'],\n",
              " ['Drama', 'Romance'],\n",
              " ['Biography', 'Drama'],\n",
              " ['Biography', 'Drama'],\n",
              " ['Action', 'Adventure', 'Sci-Fi'],\n",
              " ['Animation', 'Adventure', 'Comedy'],\n",
              " ['Drama', 'Mystery', 'Thriller'],\n",
              " ['Action', 'Horror', 'Sci-Fi'],\n",
              " ['Drama', 'Romance'],\n",
              " ['Action', 'Adventure', 'Drama'],\n",
              " ['Adventure', 'Drama', 'Fantasy'],\n",
              " ['Drama', 'Romance', 'Sci-Fi'],\n",
              " ['Action', 'Adventure', 'Thriller'],\n",
              " ['Comedy', 'Fantasy'],\n",
              " ['Action', 'Comedy', 'Crime'],\n",
              " ['Adventure', 'Drama', 'Romance'],\n",
              " ['Action', 'Crime', 'Drama'],\n",
              " ['Comedy', 'Drama', 'Romance'],\n",
              " ['Crime', 'Drama'],\n",
              " ['Crime', 'Drama', 'Mystery'],\n",
              " ['Action', 'Adventure', 'Sci-Fi'],\n",
              " ['Animation', 'Fantasy'],\n",
              " ['Animation', 'Adventure', 'Comedy'],\n",
              " ['Drama', 'Mystery', 'War'],\n",
              " ['Comedy', 'Romance'],\n",
              " ['Animation', 'Comedy', 'Family'],\n",
              " ['Comedy'],\n",
              " ['Horror', 'Mystery', 'Thriller'],\n",
              " ['Action', 'Adventure', 'Drama'],\n",
              " ['Comedy'],\n",
              " ['Drama'],\n",
              " ['Adventure', 'Biography', 'Drama'],\n",
              " ['Comedy'],\n",
              " ['Horror', 'Thriller'],\n",
              " ['Action', 'Drama', 'Family'],\n",
              " ['Comedy', 'Fantasy', 'Horror'],\n",
              " ['Comedy', 'Romance'],\n",
              " ['Drama', 'Mystery', 'Romance'],\n",
              " ['Action', 'Adventure', 'Comedy'],\n",
              " ['Thriller'],\n",
              " ['Comedy'],\n",
              " ['Adventure', 'Comedy', 'Sci-Fi'],\n",
              " ['Mystery', 'Thriller'],\n",
              " ['Comedy', 'Drama'],\n",
              " ['Adventure', 'Drama', 'Family'],\n",
              " ['Horror', 'Thriller'],\n",
              " ['Action', 'Drama', 'Romance'],\n",
              " ['Drama', 'Romance'],\n",
              " ['Action', 'Adventure', 'Fantasy'],\n",
              " ['Comedy'],\n",
              " ['Action', 'Biography', 'Drama'],\n",
              " ['Drama', 'Mystery', 'Romance'],\n",
              " ['Adventure', 'Drama', 'Western'],\n",
              " ['Drama', 'Music', 'Romance'],\n",
              " ['Comedy', 'Romance', 'Western'],\n",
              " ['Horror', 'Thriller'],\n",
              " ['Adventure', 'Family', 'Fantasy'],\n",
              " ['Crime', 'Drama', 'Mystery'],\n",
              " ['Horror', 'Mystery'],\n",
              " ['Comedy', 'Crime', 'Drama'],\n",
              " ['Action', 'Comedy', 'Romance'],\n",
              " ['Action', 'Biography', 'Drama'],\n",
              " ['Drama', 'Music'],\n",
              " ['Comedy', 'Drama'],\n",
              " ['Drama', 'Thriller', 'War'],\n",
              " ['Action', 'Mystery', 'Thriller'],\n",
              " ['Horror', 'Sci-Fi', 'Thriller'],\n",
              " ['Comedy', 'Drama', 'Romance'],\n",
              " ['Action', 'Adventure', 'Fantasy'],\n",
              " ['Drama', 'Mystery', 'Romance'],\n",
              " ['Drama'],\n",
              " ['Action', 'Adventure', 'Thriller'],\n",
              " ['Animation', 'Action', 'Adventure'],\n",
              " ['Drama', 'Fantasy', 'Mystery'],\n",
              " ['Drama', 'Sci-Fi'],\n",
              " ['Animation', 'Adventure', 'Comedy'],\n",
              " ['Horror', 'Thriller'],\n",
              " ['Action', 'Mystery', 'Thriller'],\n",
              " ['Action', 'Mystery', 'Sci-Fi'],\n",
              " ['Crime', 'Drama', 'Thriller'],\n",
              " ['Comedy', 'Drama', 'Romance'],\n",
              " ['Biography', 'Drama', 'Thriller'],\n",
              " ['Action', 'Adventure', 'Family'],\n",
              " ['Animation', 'Comedy', 'Family'],\n",
              " ['Action', 'Crime', 'Drama'],\n",
              " ['Comedy'],\n",
              " ['Comedy', 'Crime', 'Thriller'],\n",
              " ['Comedy', 'Romance'],\n",
              " ['Animation', 'Comedy', 'Drama'],\n",
              " ['Action', 'Crime', 'Thriller'],\n",
              " ['Comedy', 'Romance'],\n",
              " ['Adventure', 'Biography', 'Drama'],\n",
              " ['Animation', 'Adventure', 'Comedy'],\n",
              " ['Crime', 'Drama', 'Mystery'],\n",
              " ['Action', 'Comedy', 'Sci-Fi'],\n",
              " ['Comedy', 'Crime'],\n",
              " ['Animation', 'Action', 'Adventure'],\n",
              " ['Action', 'Drama', 'Thriller'],\n",
              " ['Fantasy', 'Horror'],\n",
              " ['Crime', 'Drama', 'Thriller'],\n",
              " ['Action', 'Adventure', 'Fantasy'],\n",
              " ['Comedy', 'Drama', 'Romance'],\n",
              " ['Biography', 'Drama', 'Romance'],\n",
              " ['Action', 'Adventure', 'Comedy'],\n",
              " ['Horror', 'Thriller'],\n",
              " ['Horror', 'Mystery', 'Thriller'],\n",
              " ['Comedy', 'Romance'],\n",
              " ['Animation', 'Adventure', 'Comedy'],\n",
              " ['Crime', 'Drama', 'Mystery'],\n",
              " ['Adventure', 'Biography', 'Drama'],\n",
              " ['Horror', 'Mystery', 'Thriller'],\n",
              " ['Adventure', 'Fantasy', 'Mystery'],\n",
              " ['Action', 'Adventure', 'Sci-Fi'],\n",
              " ['Biography', 'Drama'],\n",
              " ['Comedy'],\n",
              " ['Drama', 'Sport'],\n",
              " ['Comedy', 'Family'],\n",
              " ['Drama', 'Romance'],\n",
              " ['Action', 'Adventure', 'Comedy'],\n",
              " ['Comedy'],\n",
              " ['Mystery', 'Romance', 'Thriller'],\n",
              " ['Crime', 'Drama'],\n",
              " ['Action', 'Comedy'],\n",
              " ['Comedy', 'Crime'],\n",
              " ['Drama', 'Thriller'],\n",
              " ['Drama'],\n",
              " ['Animation', 'Adventure', 'Comedy'],\n",
              " ['Action', 'Thriller'],\n",
              " ['Drama', 'Thriller'],\n",
              " ['Animation', 'Adventure', 'Comedy'],\n",
              " ['Crime', 'Drama', 'Mystery'],\n",
              " ['Biography', 'Drama', 'Sport'],\n",
              " ['Crime', 'Drama', 'Thriller'],\n",
              " ['Drama', 'Music'],\n",
              " ['Crime', 'Drama', 'Thriller'],\n",
              " ['Drama', 'Romance'],\n",
              " ['Animation', 'Action', 'Adventure'],\n",
              " ['Comedy', 'Drama'],\n",
              " ['Action', 'Adventure', 'Drama'],\n",
              " ['Biography', 'Crime', 'Drama'],\n",
              " ['Horror'],\n",
              " ['Biography', 'Drama', 'Mystery'],\n",
              " ['Drama', 'Romance'],\n",
              " ['Comedy', 'Family'],\n",
              " ['Drama'],\n",
              " ['Drama', 'Fantasy', 'Horror'],\n",
              " ['Drama', 'Romance'],\n",
              " ['Biography', 'Drama', 'History'],\n",
              " ['Comedy', 'Family'],\n",
              " ['Action', 'Adventure', 'Thriller'],\n",
              " ['Comedy', 'Drama'],\n",
              " ['Action', 'Adventure', 'Fantasy'],\n",
              " ['Action', 'Thriller'],\n",
              " ['Drama', 'Romance'],\n",
              " ['Comedy', 'Drama', 'Romance'],\n",
              " ['Drama', 'Horror', 'Sci-Fi'],\n",
              " ['Comedy', 'Horror', 'Romance'],\n",
              " ['Drama'],\n",
              " ['Action', 'Adventure', 'Sci-Fi'],\n",
              " ['Action', 'Adventure', 'Fantasy'],\n",
              " ['Action', 'Adventure', 'Drama'],\n",
              " ['Biography', 'Comedy', 'Drama'],\n",
              " ['Drama', 'Mystery', 'Romance'],\n",
              " ['Animation', 'Adventure', 'Comedy'],\n",
              " ['Drama', 'Romance', 'Sci-Fi'],\n",
              " ['Drama'],\n",
              " ['Drama', 'Fantasy'],\n",
              " ['Drama', 'Romance'],\n",
              " ['Comedy', 'Horror', 'Thriller'],\n",
              " ['Comedy', 'Drama', 'Romance'],\n",
              " ['Action', 'Drama', 'Family'],\n",
              " ['Comedy', 'Drama', 'Romance'],\n",
              " ['Action', 'Thriller', 'War'],\n",
              " ['Adventure', 'Comedy', 'Drama'],\n",
              " ['Comedy', 'Romance'],\n",
              " ['Comedy', 'Romance'],\n",
              " ['Comedy', 'Drama', 'Romance'],\n",
              " ['Action', 'Adventure', 'Crime'],\n",
              " ['Comedy', 'Romance'],\n",
              " ['Animation', 'Action', 'Adventure'],\n",
              " ['Action', 'Crime', 'Sci-Fi'],\n",
              " ['Comedy', 'Drama', 'Romance'],\n",
              " ['Crime', 'Thriller'],\n",
              " ['Comedy', 'Horror', 'Sci-Fi'],\n",
              " ['Drama', 'Thriller'],\n",
              " ['Drama', 'Fantasy', 'Horror'],\n",
              " ['Adventure', 'Drama', 'Family'],\n",
              " ['Mystery', 'Sci-Fi', 'Thriller'],\n",
              " ['Biography', 'Crime', 'Drama'],\n",
              " ['Drama', 'Fantasy', 'Horror'],\n",
              " ['Action', 'Adventure', 'Thriller'],\n",
              " ['Crime', 'Drama', 'Fantasy'],\n",
              " ['Adventure', 'Family', 'Fantasy'],\n",
              " ['Action', 'Adventure', 'Drama'],\n",
              " ['Action', 'Comedy', 'Horror'],\n",
              " ['Comedy', 'Drama', 'Family'],\n",
              " ['Action', 'Thriller'],\n",
              " ['Action', 'Adventure', 'Sci-Fi'],\n",
              " ['Adventure', 'Drama', 'Fantasy'],\n",
              " ['Drama'],\n",
              " ['Drama'],\n",
              " ['Comedy', 'Drama', 'Music'],\n",
              " ['Drama', 'Fantasy', 'Music'],\n",
              " ['Comedy', 'Horror'],\n",
              " ['Action', 'Comedy', 'Sport'],\n",
              " ['Horror'],\n",
              " ['Comedy', 'Drama'],\n",
              " ['Horror', 'Mystery'],\n",
              " ['Adventure', 'Drama', 'Fantasy'],\n",
              " ['Comedy', 'Romance'],\n",
              " ['Action', 'Sci-Fi', 'Thriller'],\n",
              " ['Crime', 'Drama'],\n",
              " ['Action', 'Adventure', 'Sci-Fi'],\n",
              " ['Adventure'],\n",
              " ['Comedy', 'Drama'],\n",
              " ['Comedy', 'Drama'],\n",
              " ['Comedy', 'Drama', 'Romance'],\n",
              " ['Adventure', 'Comedy', 'Drama'],\n",
              " ['Action', 'Sci-Fi', 'Thriller'],\n",
              " ['Comedy', 'Romance'],\n",
              " ['Action', 'Fantasy', 'Horror'],\n",
              " ['Crime', 'Drama', 'Thriller'],\n",
              " ['Action', 'Drama', 'Thriller'],\n",
              " ['Crime', 'Drama', 'Mystery'],\n",
              " ['Crime', 'Drama', 'Mystery'],\n",
              " ['Drama', 'Sci-Fi', 'Thriller'],\n",
              " ['Biography', 'Drama', 'History'],\n",
              " ['Crime', 'Horror', 'Thriller'],\n",
              " ['Horror', 'Thriller'],\n",
              " ['Comedy', 'Drama', 'Musical'],\n",
              " ['Horror', 'Mystery'],\n",
              " ['Biography', 'Drama', 'Sport'],\n",
              " ['Comedy', 'Family', 'Romance'],\n",
              " ['Drama', 'Thriller'],\n",
              " ['Biography', 'Drama', 'Family'],\n",
              " ['Comedy', 'Drama', 'Family'],\n",
              " ['Drama', 'Fantasy', 'Musical'],\n",
              " ['Comedy'],\n",
              " ['Adventure', 'Family'],\n",
              " ['Adventure', 'Comedy', 'Fantasy'],\n",
              " ['Horror', 'Thriller'],\n",
              " ['Drama', 'Romance'],\n",
              " ['Action', 'Adventure', 'Fantasy'],\n",
              " ['Drama', 'Family', 'Music'],\n",
              " ['Action', 'Adventure', 'Horror'],\n",
              " ['Comedy'],\n",
              " ['Horror'],\n",
              " ['Drama', 'Music', 'Romance'],\n",
              " ['Comedy', 'Family', 'Fantasy']]"
            ]
          },
          "metadata": {},
          "execution_count": 46
        }
      ]
    },
    {
      "cell_type": "code",
      "metadata": {
        "id": "Oq1GQCGp_-mC"
      },
      "source": [
        "one_d=[]\n",
        "for item in list1:\n",
        "    for item1 in item:\n",
        "        one_d.append(item1)"
      ],
      "execution_count": 47,
      "outputs": []
    },
    {
      "cell_type": "code",
      "metadata": {
        "id": "c2FiSlvZ_-mC",
        "outputId": "4e988fd7-12e1-4fa9-c1dd-4b35e416fbbc",
        "colab": {
          "base_uri": "https://localhost:8080/"
        }
      },
      "source": [
        "one_d"
      ],
      "execution_count": 48,
      "outputs": [
        {
          "output_type": "execute_result",
          "data": {
            "text/plain": [
              "['Action',\n",
              " 'Adventure',\n",
              " 'Sci-Fi',\n",
              " 'Adventure',\n",
              " 'Mystery',\n",
              " 'Sci-Fi',\n",
              " 'Horror',\n",
              " 'Thriller',\n",
              " 'Animation',\n",
              " 'Comedy',\n",
              " 'Family',\n",
              " 'Action',\n",
              " 'Adventure',\n",
              " 'Fantasy',\n",
              " 'Action',\n",
              " 'Adventure',\n",
              " 'Fantasy',\n",
              " 'Comedy',\n",
              " 'Drama',\n",
              " 'Music',\n",
              " 'Action',\n",
              " 'Adventure',\n",
              " 'Biography',\n",
              " 'Adventure',\n",
              " 'Drama',\n",
              " 'Romance',\n",
              " 'Adventure',\n",
              " 'Family',\n",
              " 'Fantasy',\n",
              " 'Biography',\n",
              " 'Drama',\n",
              " 'History',\n",
              " 'Action',\n",
              " 'Adventure',\n",
              " 'Sci-Fi',\n",
              " 'Animation',\n",
              " 'Adventure',\n",
              " 'Comedy',\n",
              " 'Action',\n",
              " 'Comedy',\n",
              " 'Drama',\n",
              " 'Animation',\n",
              " 'Adventure',\n",
              " 'Comedy',\n",
              " 'Biography',\n",
              " 'Drama',\n",
              " 'History',\n",
              " 'Action',\n",
              " 'Thriller',\n",
              " 'Biography',\n",
              " 'Drama',\n",
              " 'Drama',\n",
              " 'Mystery',\n",
              " 'Sci-Fi',\n",
              " 'Adventure',\n",
              " 'Drama',\n",
              " 'Thriller',\n",
              " 'Drama',\n",
              " 'Animation',\n",
              " 'Adventure',\n",
              " 'Comedy',\n",
              " 'Action',\n",
              " 'Adventure',\n",
              " 'Sci-Fi',\n",
              " 'Comedy',\n",
              " 'Action',\n",
              " 'Adventure',\n",
              " 'Drama',\n",
              " 'Comedy',\n",
              " 'Drama',\n",
              " 'Thriller',\n",
              " 'Action',\n",
              " 'Adventure',\n",
              " 'Sci-Fi',\n",
              " 'Action',\n",
              " 'Adventure',\n",
              " 'Comedy',\n",
              " 'Action',\n",
              " 'Horror',\n",
              " 'Sci-Fi',\n",
              " 'Action',\n",
              " 'Adventure',\n",
              " 'Sci-Fi',\n",
              " 'Adventure',\n",
              " 'Drama',\n",
              " 'Sci-Fi',\n",
              " 'Action',\n",
              " 'Adventure',\n",
              " 'Fantasy',\n",
              " 'Action',\n",
              " 'Adventure',\n",
              " 'Western',\n",
              " 'Animation',\n",
              " 'Adventure',\n",
              " 'Comedy',\n",
              " 'Drama',\n",
              " 'Biography',\n",
              " 'Drama',\n",
              " 'History',\n",
              " 'Drama',\n",
              " 'Action',\n",
              " 'Adventure',\n",
              " 'Fantasy',\n",
              " 'Drama',\n",
              " 'Thriller',\n",
              " 'Action',\n",
              " 'Adventure',\n",
              " 'Sci-Fi',\n",
              " 'Action',\n",
              " 'Adventure',\n",
              " 'Fantasy',\n",
              " 'Action',\n",
              " 'Adventure',\n",
              " 'Fantasy',\n",
              " 'Comedy',\n",
              " 'Drama',\n",
              " 'Action',\n",
              " 'Crime',\n",
              " 'Thriller',\n",
              " 'Action',\n",
              " 'Crime',\n",
              " 'Drama',\n",
              " 'Adventure',\n",
              " 'Drama',\n",
              " 'History',\n",
              " 'Crime',\n",
              " 'Horror',\n",
              " 'Thriller',\n",
              " 'Drama',\n",
              " 'Romance',\n",
              " 'Comedy',\n",
              " 'Drama',\n",
              " 'Romance',\n",
              " 'Biography',\n",
              " 'Drama',\n",
              " 'Action',\n",
              " 'Adventure',\n",
              " 'Sci-Fi',\n",
              " 'Crime',\n",
              " 'Drama',\n",
              " 'Mystery',\n",
              " 'Drama',\n",
              " 'Romance',\n",
              " 'Thriller',\n",
              " 'Drama',\n",
              " 'Mystery',\n",
              " 'Sci-Fi',\n",
              " 'Action',\n",
              " 'Adventure',\n",
              " 'Comedy',\n",
              " 'Drama',\n",
              " 'History',\n",
              " 'Thriller',\n",
              " 'Action',\n",
              " 'Adventure',\n",
              " 'Sci-Fi',\n",
              " 'Drama',\n",
              " 'Action',\n",
              " 'Drama',\n",
              " 'Thriller',\n",
              " 'Action',\n",
              " 'Drama',\n",
              " 'Romance',\n",
              " 'Drama',\n",
              " 'Fantasy',\n",
              " 'Drama',\n",
              " 'Romance',\n",
              " 'Animation',\n",
              " 'Adventure',\n",
              " 'Comedy',\n",
              " 'Action',\n",
              " 'Adventure',\n",
              " 'Fantasy',\n",
              " 'Action',\n",
              " 'Sci-Fi',\n",
              " 'Adventure',\n",
              " 'Drama',\n",
              " 'War',\n",
              " 'Action',\n",
              " 'Adventure',\n",
              " 'Fantasy',\n",
              " 'Action',\n",
              " 'Comedy',\n",
              " 'Fantasy',\n",
              " 'Action',\n",
              " 'Adventure',\n",
              " 'Sci-Fi',\n",
              " 'Comedy',\n",
              " 'Drama',\n",
              " 'Biography',\n",
              " 'Comedy',\n",
              " 'Crime',\n",
              " 'Crime',\n",
              " 'Drama',\n",
              " 'Mystery',\n",
              " 'Action',\n",
              " 'Crime',\n",
              " 'Thriller',\n",
              " 'Action',\n",
              " 'Adventure',\n",
              " 'Sci-Fi',\n",
              " 'Crime',\n",
              " 'Drama',\n",
              " 'Action',\n",
              " 'Adventure',\n",
              " 'Fantasy',\n",
              " 'Crime',\n",
              " 'Drama',\n",
              " 'Mystery',\n",
              " 'Action',\n",
              " 'Crime',\n",
              " 'Drama',\n",
              " 'Crime',\n",
              " 'Drama',\n",
              " 'Mystery',\n",
              " 'Action',\n",
              " 'Adventure',\n",
              " 'Fantasy',\n",
              " 'Drama',\n",
              " 'Comedy',\n",
              " 'Crime',\n",
              " 'Drama',\n",
              " 'Action',\n",
              " 'Adventure',\n",
              " 'Sci-Fi',\n",
              " 'Action',\n",
              " 'Comedy',\n",
              " 'Crime',\n",
              " 'Animation',\n",
              " 'Drama',\n",
              " 'Fantasy',\n",
              " 'Horror',\n",
              " 'Mystery',\n",
              " 'Sci-Fi',\n",
              " 'Drama',\n",
              " 'Mystery',\n",
              " 'Thriller',\n",
              " 'Crime',\n",
              " 'Drama',\n",
              " 'Thriller',\n",
              " 'Biography',\n",
              " 'Crime',\n",
              " 'Drama',\n",
              " 'Action',\n",
              " 'Adventure',\n",
              " 'Fantasy',\n",
              " 'Adventure',\n",
              " 'Drama',\n",
              " 'Sci-Fi',\n",
              " 'Action',\n",
              " 'Adventure',\n",
              " 'Comedy',\n",
              " 'Crime',\n",
              " 'Drama',\n",
              " 'Thriller',\n",
              " 'Comedy',\n",
              " 'Action',\n",
              " 'Adventure',\n",
              " 'Drama',\n",
              " 'Drama',\n",
              " 'Mystery',\n",
              " 'Sci-Fi',\n",
              " 'Action',\n",
              " 'Horror',\n",
              " 'Thriller',\n",
              " 'Biography',\n",
              " 'Drama',\n",
              " 'History',\n",
              " 'Action',\n",
              " 'Fantasy',\n",
              " 'War',\n",
              " 'Adventure',\n",
              " 'Drama',\n",
              " 'Fantasy',\n",
              " 'Comedy',\n",
              " 'Horror',\n",
              " 'Thriller',\n",
              " 'Drama',\n",
              " 'Horror',\n",
              " 'Mystery',\n",
              " 'Animation',\n",
              " 'Adventure',\n",
              " 'Comedy',\n",
              " 'Adventure',\n",
              " 'Drama',\n",
              " 'Family',\n",
              " 'Adventure',\n",
              " 'Mystery',\n",
              " 'Sci-Fi',\n",
              " 'Adventure',\n",
              " 'Comedy',\n",
              " 'Romance',\n",
              " 'Action',\n",
              " 'Thriller',\n",
              " 'Adventure',\n",
              " 'Drama',\n",
              " 'Family',\n",
              " 'Action',\n",
              " 'Adventure',\n",
              " 'Sci-Fi',\n",
              " 'Adventure',\n",
              " 'Crime',\n",
              " 'Mystery',\n",
              " 'Comedy',\n",
              " 'Family',\n",
              " 'Musical',\n",
              " 'Adventure',\n",
              " 'Drama',\n",
              " 'Thriller',\n",
              " 'Drama',\n",
              " 'Adventure',\n",
              " 'Comedy',\n",
              " 'Drama',\n",
              " 'Drama',\n",
              " 'Horror',\n",
              " 'Thriller',\n",
              " 'Drama',\n",
              " 'Music',\n",
              " 'Action',\n",
              " 'Crime',\n",
              " 'Thriller',\n",
              " 'Crime',\n",
              " 'Drama',\n",
              " 'Thriller',\n",
              " 'Crime',\n",
              " 'Drama',\n",
              " 'Thriller',\n",
              " 'Drama',\n",
              " 'Romance',\n",
              " 'Mystery',\n",
              " 'Thriller',\n",
              " 'Action',\n",
              " 'Adventure',\n",
              " 'Sci-Fi',\n",
              " 'Comedy',\n",
              " 'Family',\n",
              " 'Biography',\n",
              " 'Comedy',\n",
              " 'Drama',\n",
              " 'Drama',\n",
              " 'Drama',\n",
              " 'Western',\n",
              " 'Drama',\n",
              " 'Mystery',\n",
              " 'Romance',\n",
              " 'Comedy',\n",
              " 'Drama',\n",
              " 'Action',\n",
              " 'Drama',\n",
              " 'Mystery',\n",
              " 'Comedy',\n",
              " 'Action',\n",
              " 'Adventure',\n",
              " 'Crime',\n",
              " 'Adventure',\n",
              " 'Family',\n",
              " 'Fantasy',\n",
              " 'Adventure',\n",
              " 'Sci-Fi',\n",
              " 'Thriller',\n",
              " 'Drama',\n",
              " 'Action',\n",
              " 'Crime',\n",
              " 'Drama',\n",
              " 'Action',\n",
              " 'Horror',\n",
              " 'Sci-Fi',\n",
              " 'Action',\n",
              " 'Adventure',\n",
              " 'Sci-Fi',\n",
              " 'Comedy',\n",
              " 'Drama',\n",
              " 'Romance',\n",
              " 'Action',\n",
              " 'Comedy',\n",
              " 'Fantasy',\n",
              " 'Action',\n",
              " 'Comedy',\n",
              " 'Mystery',\n",
              " 'Action',\n",
              " 'Comedy',\n",
              " 'Crime',\n",
              " 'Action',\n",
              " 'Adventure',\n",
              " 'Sci-Fi',\n",
              " 'Action',\n",
              " 'Adventure',\n",
              " 'Crime',\n",
              " 'Action',\n",
              " 'Adventure',\n",
              " 'Thriller',\n",
              " 'Drama',\n",
              " 'Fantasy',\n",
              " 'Romance',\n",
              " 'Action',\n",
              " 'Adventure',\n",
              " 'Comedy',\n",
              " 'Biography',\n",
              " 'Drama',\n",
              " 'History',\n",
              " 'Action',\n",
              " 'Drama',\n",
              " 'History',\n",
              " 'Action',\n",
              " 'Adventure',\n",
              " 'Thriller',\n",
              " 'Crime',\n",
              " 'Drama',\n",
              " 'Thriller',\n",
              " 'Animation',\n",
              " 'Adventure',\n",
              " 'Family',\n",
              " 'Drama',\n",
              " 'Romance',\n",
              " 'Sci-Fi',\n",
              " 'Animation',\n",
              " 'Adventure',\n",
              " 'Comedy',\n",
              " 'Action',\n",
              " 'Adventure',\n",
              " 'Family',\n",
              " 'Action',\n",
              " 'Adventure',\n",
              " 'Drama',\n",
              " 'Action',\n",
              " 'Comedy',\n",
              " 'Horror',\n",
              " 'Mystery',\n",
              " 'Thriller',\n",
              " 'Action',\n",
              " 'Adventure',\n",
              " 'Comedy',\n",
              " 'Comedy',\n",
              " 'Romance',\n",
              " 'Horror',\n",
              " 'Mystery',\n",
              " 'Drama',\n",
              " 'Family',\n",
              " 'Fantasy',\n",
              " 'Drama',\n",
              " 'Thriller',\n",
              " 'Drama',\n",
              " 'War',\n",
              " 'Drama',\n",
              " 'Fantasy',\n",
              " 'Horror',\n",
              " 'Crime',\n",
              " 'Drama',\n",
              " 'Comedy',\n",
              " 'Drama',\n",
              " 'Romance',\n",
              " 'Drama',\n",
              " 'Romance',\n",
              " 'Crime',\n",
              " 'Drama',\n",
              " 'History',\n",
              " 'Horror',\n",
              " 'Sci-Fi',\n",
              " 'Thriller',\n",
              " 'Action',\n",
              " 'Drama',\n",
              " 'Sport',\n",
              " 'Action',\n",
              " 'Adventure',\n",
              " 'Sci-Fi',\n",
              " 'Adventure',\n",
              " 'Biography',\n",
              " 'Drama',\n",
              " 'Biography',\n",
              " 'Drama',\n",
              " 'Thriller',\n",
              " 'Action',\n",
              " 'Comedy',\n",
              " 'Crime',\n",
              " 'Action',\n",
              " 'Adventure',\n",
              " 'Sci-Fi',\n",
              " 'Drama',\n",
              " 'Fantasy',\n",
              " 'Horror',\n",
              " 'Biography',\n",
              " 'Drama',\n",
              " 'Thriller',\n",
              " 'Action',\n",
              " 'Adventure',\n",
              " 'Sci-Fi',\n",
              " 'Action',\n",
              " 'Adventure',\n",
              " 'Mystery',\n",
              " 'Action',\n",
              " 'Adventure',\n",
              " 'Sci-Fi',\n",
              " 'Drama',\n",
              " 'Horror',\n",
              " 'Comedy',\n",
              " 'Drama',\n",
              " 'Romance',\n",
              " 'Comedy',\n",
              " 'Romance',\n",
              " 'Action',\n",
              " 'Adventure',\n",
              " 'Drama',\n",
              " 'Drama',\n",
              " 'Action',\n",
              " 'Adventure',\n",
              " 'Sci-Fi',\n",
              " 'Action',\n",
              " 'Adventure',\n",
              " 'Fantasy',\n",
              " 'Action',\n",
              " 'Adventure',\n",
              " 'Fantasy',\n",
              " 'Action',\n",
              " 'Adventure',\n",
              " 'Sci-Fi',\n",
              " 'Action',\n",
              " 'Adventure',\n",
              " 'Comedy',\n",
              " 'Action',\n",
              " 'Comedy',\n",
              " 'Action',\n",
              " 'Adventure',\n",
              " 'Sci-Fi',\n",
              " 'Animation',\n",
              " 'Adventure',\n",
              " 'Comedy',\n",
              " 'Horror',\n",
              " 'Mystery',\n",
              " 'Crime',\n",
              " 'Drama',\n",
              " 'Mystery',\n",
              " 'Comedy',\n",
              " 'Crime',\n",
              " 'Drama',\n",
              " 'Comedy',\n",
              " 'Drama',\n",
              " 'Romance',\n",
              " 'Action',\n",
              " 'Adventure',\n",
              " 'Sci-Fi',\n",
              " 'Action',\n",
              " 'Adventure',\n",
              " 'Family',\n",
              " 'Drama',\n",
              " 'Fantasy',\n",
              " 'War',\n",
              " 'Crime',\n",
              " 'Drama',\n",
              " 'Thriller',\n",
              " 'Action',\n",
              " 'Adventure',\n",
              " 'Drama',\n",
              " 'Action',\n",
              " 'Adventure',\n",
              " 'Thriller',\n",
              " 'Action',\n",
              " 'Adventure',\n",
              " 'Drama',\n",
              " 'Drama',\n",
              " 'Romance',\n",
              " 'Biography',\n",
              " 'Drama',\n",
              " 'History',\n",
              " 'Drama',\n",
              " 'Horror',\n",
              " 'Thriller',\n",
              " 'Adventure',\n",
              " 'Comedy',\n",
              " 'Drama',\n",
              " 'Action',\n",
              " 'Adventure',\n",
              " 'Romance',\n",
              " 'Action',\n",
              " 'Drama',\n",
              " 'War',\n",
              " 'Animation',\n",
              " 'Adventure',\n",
              " 'Comedy',\n",
              " 'Animation',\n",
              " 'Adventure',\n",
              " 'Comedy',\n",
              " 'Action',\n",
              " 'Adventure',\n",
              " 'Sci-Fi',\n",
              " 'Adventure',\n",
              " 'Family',\n",
              " 'Fantasy',\n",
              " 'Drama',\n",
              " 'Musical',\n",
              " 'Romance',\n",
              " 'Drama',\n",
              " 'Sci-Fi',\n",
              " 'Thriller',\n",
              " 'Comedy',\n",
              " 'Drama',\n",
              " 'Action',\n",
              " 'Comedy',\n",
              " 'Crime',\n",
              " 'Biography',\n",
              " 'Comedy',\n",
              " 'Drama',\n",
              " 'Comedy',\n",
              " 'Drama',\n",
              " 'Romance',\n",
              " 'Drama',\n",
              " 'Thriller',\n",
              " 'Biography',\n",
              " 'Drama',\n",
              " 'History',\n",
              " 'Action',\n",
              " 'Adventure',\n",
              " 'Sci-Fi',\n",
              " 'Horror',\n",
              " 'Mystery',\n",
              " 'Thriller',\n",
              " 'Comedy',\n",
              " 'Action',\n",
              " 'Adventure',\n",
              " 'Sci-Fi',\n",
              " 'Action',\n",
              " 'Drama',\n",
              " 'Sci-Fi',\n",
              " 'Horror',\n",
              " 'Drama',\n",
              " 'Thriller',\n",
              " 'Comedy',\n",
              " 'Drama',\n",
              " 'Romance',\n",
              " 'Drama',\n",
              " 'Thriller',\n",
              " 'Comedy',\n",
              " 'Drama',\n",
              " 'Drama',\n",
              " 'Action',\n",
              " 'Adventure',\n",
              " 'Comedy',\n",
              " 'Drama',\n",
              " 'Horror',\n",
              " 'Thriller',\n",
              " 'Comedy',\n",
              " 'Drama',\n",
              " 'Sci-Fi',\n",
              " 'Action',\n",
              " 'Adventure',\n",
              " 'Sci-Fi',\n",
              " 'Action',\n",
              " 'Adventure',\n",
              " 'Thriller',\n",
              " 'Adventure',\n",
              " 'Fantasy',\n",
              " 'Action',\n",
              " 'Comedy',\n",
              " 'Crime',\n",
              " 'Comedy',\n",
              " 'Drama',\n",
              " 'Music',\n",
              " 'Action',\n",
              " 'Adventure',\n",
              " 'Mystery',\n",
              " 'Action',\n",
              " 'Comedy',\n",
              " 'Crime',\n",
              " 'Crime',\n",
              " 'Drama',\n",
              " 'History',\n",
              " 'Comedy',\n",
              " 'Action',\n",
              " 'Adventure',\n",
              " 'Sci-Fi',\n",
              " 'Crime',\n",
              " 'Mystery',\n",
              " 'Thriller',\n",
              " 'Action',\n",
              " 'Adventure',\n",
              " 'Crime',\n",
              " 'Biography',\n",
              " 'Drama',\n",
              " 'Romance',\n",
              " 'Action',\n",
              " 'Adventure',\n",
              " 'Action',\n",
              " 'Fantasy',\n",
              " 'Action',\n",
              " 'Comedy',\n",
              " 'Action',\n",
              " 'Adventure',\n",
              " 'Sci-Fi',\n",
              " 'Action',\n",
              " 'Comedy',\n",
              " 'Crime',\n",
              " 'Action',\n",
              " 'Drama',\n",
              " 'Horror',\n",
              " 'Comedy',\n",
              " 'Music',\n",
              " 'Romance',\n",
              " 'Comedy',\n",
              " 'Action',\n",
              " 'Adventure',\n",
              " 'Fantasy',\n",
              " 'Drama',\n",
              " 'Romance',\n",
              " 'Animation',\n",
              " 'Adventure',\n",
              " 'Comedy',\n",
              " 'Comedy',\n",
              " 'Drama',\n",
              " 'Biography',\n",
              " 'Crime',\n",
              " 'Drama',\n",
              " 'Drama',\n",
              " 'History',\n",
              " 'Action',\n",
              " 'Crime',\n",
              " 'Thriller',\n",
              " 'Action',\n",
              " 'Biography',\n",
              " 'Drama',\n",
              " 'Horror',\n",
              " 'Comedy',\n",
              " 'Romance',\n",
              " 'Comedy',\n",
              " 'Romance',\n",
              " 'Comedy',\n",
              " 'Crime',\n",
              " 'Drama',\n",
              " 'Adventure',\n",
              " 'Family',\n",
              " 'Fantasy',\n",
              " 'Action',\n",
              " 'Crime',\n",
              " 'Thriller',\n",
              " 'Comedy',\n",
              " 'Romance',\n",
              " 'Biography',\n",
              " 'Drama',\n",
              " 'Sport',\n",
              " 'Drama',\n",
              " 'Romance',\n",
              " 'Drama',\n",
              " 'Horror',\n",
              " 'Adventure',\n",
              " 'Fantasy',\n",
              " 'Adventure',\n",
              " 'Family',\n",
              " 'Fantasy',\n",
              " 'Action',\n",
              " 'Drama',\n",
              " 'Sci-Fi',\n",
              " 'Action',\n",
              " 'Adventure',\n",
              " 'Sci-Fi',\n",
              " 'Comedy',\n",
              " 'Horror',\n",
              " 'Thriller',\n",
              " 'Action',\n",
              " 'Crime',\n",
              " 'Thriller',\n",
              " 'Crime',\n",
              " 'Drama',\n",
              " 'Music',\n",
              " 'Drama',\n",
              " 'Action',\n",
              " 'Crime',\n",
              " 'Thriller',\n",
              " 'Action',\n",
              " 'Sci-Fi',\n",
              " 'Thriller',\n",
              " 'Biography',\n",
              " 'Drama',\n",
              " 'Action',\n",
              " 'Adventure',\n",
              " 'Fantasy',\n",
              " 'Drama',\n",
              " 'Horror',\n",
              " 'Sci-Fi',\n",
              " 'Biography',\n",
              " 'Comedy',\n",
              " 'Drama',\n",
              " 'Crime',\n",
              " 'Horror',\n",
              " 'Thriller',\n",
              " 'Crime',\n",
              " 'Drama',\n",
              " 'Mystery',\n",
              " 'Animation',\n",
              " 'Adventure',\n",
              " 'Comedy',\n",
              " 'Action',\n",
              " 'Biography',\n",
              " 'Drama',\n",
              " 'Biography',\n",
              " 'Drama',\n",
              " 'Biography',\n",
              " 'Drama',\n",
              " 'History',\n",
              " 'Action',\n",
              " 'Biography',\n",
              " 'Drama',\n",
              " 'Comedy',\n",
              " 'Drama',\n",
              " 'Romance',\n",
              " 'Drama',\n",
              " 'Romance',\n",
              " 'Comedy',\n",
              " 'Romance',\n",
              " 'Action',\n",
              " 'Crime',\n",
              " 'Thriller',\n",
              " 'Action',\n",
              " 'Crime',\n",
              " 'Drama',\n",
              " 'Action',\n",
              " 'Drama',\n",
              " 'Thriller',\n",
              " 'Adventure',\n",
              " 'Family',\n",
              " 'Fantasy',\n",
              " 'Action',\n",
              " 'Adventure',\n",
              " 'Action',\n",
              " 'Adventure',\n",
              " 'Romance',\n",
              " 'Adventure',\n",
              " 'Family',\n",
              " 'Fantasy',\n",
              " 'Crime',\n",
              " 'Drama',\n",
              " 'Comedy',\n",
              " 'Horror',\n",
              " 'Comedy',\n",
              " 'Fantasy',\n",
              " 'Romance',\n",
              " 'Drama',\n",
              " 'Comedy',\n",
              " 'Drama',\n",
              " 'Comedy',\n",
              " 'Drama',\n",
              " 'Romance',\n",
              " 'Adventure',\n",
              " 'Sci-Fi',\n",
              " 'Thriller',\n",
              " 'Action',\n",
              " 'Adventure',\n",
              " 'Fantasy',\n",
              " 'Biography',\n",
              " 'Drama',\n",
              " 'Romance',\n",
              " 'Comedy',\n",
              " 'Fantasy',\n",
              " 'Comedy',\n",
              " 'Drama',\n",
              " 'Fantasy',\n",
              " 'Comedy',\n",
              " 'Horror',\n",
              " 'Thriller',\n",
              " 'Action',\n",
              " 'Adventure',\n",
              " 'Sci-Fi',\n",
              " 'Adventure',\n",
              " 'Comedy',\n",
              " 'Horror',\n",
              " 'Comedy',\n",
              " 'Mystery',\n",
              " 'Drama',\n",
              " 'Adventure',\n",
              " 'Drama',\n",
              " 'Fantasy',\n",
              " 'Action',\n",
              " 'Adventure',\n",
              " 'Action',\n",
              " 'Adventure',\n",
              " 'Drama',\n",
              " 'Action',\n",
              " 'Drama',\n",
              " 'Sci-Fi',\n",
              " 'Action',\n",
              " 'Mystery',\n",
              " 'Sci-Fi',\n",
              " 'Action',\n",
              " 'Crime',\n",
              " 'Drama',\n",
              " 'Action',\n",
              " 'Crime',\n",
              " 'Fantasy',\n",
              " 'Biography',\n",
              " 'Comedy',\n",
              " 'Drama',\n",
              " 'Action',\n",
              " 'Crime',\n",
              " 'Thriller',\n",
              " 'Biography',\n",
              " 'Crime',\n",
              " 'Drama',\n",
              " 'Drama',\n",
              " 'Sport',\n",
              " 'Adventure',\n",
              " 'Comedy',\n",
              " 'Drama',\n",
              " 'Action',\n",
              " 'Adventure',\n",
              " 'Thriller',\n",
              " 'Comedy',\n",
              " 'Fantasy',\n",
              " 'Horror',\n",
              " 'Drama',\n",
              " 'Sport',\n",
              " 'Drama',\n",
              " 'History',\n",
              " 'Thriller',\n",
              " 'Animation',\n",
              " 'Action',\n",
              " 'Adventure',\n",
              " 'Action',\n",
              " 'Adventure',\n",
              " 'Drama',\n",
              " 'Action',\n",
              " 'Comedy',\n",
              " 'Family',\n",
              " 'Action',\n",
              " 'Adventure',\n",
              " 'Drama',\n",
              " 'Action',\n",
              " 'Adventure',\n",
              " 'Sci-Fi',\n",
              " 'Action',\n",
              " 'Adventure',\n",
              " 'Sci-Fi',\n",
              " 'Action',\n",
              " 'Comedy',\n",
              " 'Action',\n",
              " 'Crime',\n",
              " 'Drama',\n",
              " 'Biography',\n",
              " 'Drama',\n",
              " 'Comedy',\n",
              " 'Drama',\n",
              " 'Fantasy',\n",
              " 'Romance',\n",
              " 'Action',\n",
              " 'Adventure',\n",
              " 'Sci-Fi',\n",
              " 'Comedy',\n",
              " 'Comedy',\n",
              " 'Drama',\n",
              " 'Animation',\n",
              " 'Action',\n",
              " 'Adventure',\n",
              " 'Animation',\n",
              " 'Adventure',\n",
              " 'Comedy',\n",
              " 'Drama',\n",
              " 'Romance',\n",
              " 'Drama',\n",
              " 'Mystery',\n",
              " 'Thriller',\n",
              " 'Drama',\n",
              " 'History',\n",
              " 'Thriller',\n",
              " 'Animation',\n",
              " 'Adventure',\n",
              " 'Comedy',\n",
              " 'Action',\n",
              " 'Adventure',\n",
              " 'Sci-Fi',\n",
              " 'Adventure',\n",
              " 'Comedy',\n",
              " 'Action',\n",
              " 'Thriller',\n",
              " 'Comedy',\n",
              " 'Music',\n",
              " 'Animation',\n",
              " 'Adventure',\n",
              " 'Comedy',\n",
              " 'Action',\n",
              " 'Adventure',\n",
              " 'Crime',\n",
              " 'Comedy',\n",
              " 'Drama',\n",
              " 'Horror',\n",
              " 'Adventure',\n",
              " 'Family',\n",
              " 'Fantasy',\n",
              " 'Drama',\n",
              " 'Action',\n",
              " 'Drama',\n",
              " 'Thriller',\n",
              " 'Drama',\n",
              " 'Action',\n",
              " 'Horror',\n",
              " 'Romance',\n",
              " 'Action',\n",
              " 'Drama',\n",
              " 'Fantasy',\n",
              " 'Action',\n",
              " 'Crime',\n",
              " 'Drama',\n",
              " 'Drama',\n",
              " 'Fantasy',\n",
              " 'Romance',\n",
              " ...]"
            ]
          },
          "metadata": {},
          "execution_count": 48
        }
      ]
    },
    {
      "cell_type": "code",
      "metadata": {
        "id": "yg3G_5dh_-mC"
      },
      "source": [
        "uni_list = []\n",
        "for item in one_d:\n",
        "    if item not in uni_list:\n",
        "        uni_list.append(item)"
      ],
      "execution_count": 49,
      "outputs": []
    },
    {
      "cell_type": "code",
      "metadata": {
        "id": "HriaO5DT_-mC",
        "outputId": "ccbe1ae0-cb1d-4a7a-dd1d-77c9625f21c9",
        "colab": {
          "base_uri": "https://localhost:8080/"
        }
      },
      "source": [
        "len(uni_list)"
      ],
      "execution_count": 50,
      "outputs": [
        {
          "output_type": "execute_result",
          "data": {
            "text/plain": [
              "20"
            ]
          },
          "metadata": {},
          "execution_count": 50
        }
      ]
    },
    {
      "cell_type": "markdown",
      "metadata": {
        "id": "nMoGyHor_-mD"
      },
      "source": [
        "#### How Many Films of Each Genre Were Made?"
      ]
    },
    {
      "cell_type": "code",
      "metadata": {
        "id": "FDfUctUk_-mD"
      },
      "source": [
        "one_d=[]\n",
        "for item in list1:\n",
        "    for item1 in item:\n",
        "        one_d.append(item1)"
      ],
      "execution_count": 51,
      "outputs": []
    },
    {
      "cell_type": "code",
      "metadata": {
        "id": "xOHwH72P_-mD"
      },
      "source": [
        "from collections import Counter"
      ],
      "execution_count": 52,
      "outputs": []
    },
    {
      "cell_type": "code",
      "metadata": {
        "id": "YOmJ9DAQ_-mE",
        "outputId": "4fa24e89-977a-4fc0-f025-d18016743e68",
        "colab": {
          "base_uri": "https://localhost:8080/"
        }
      },
      "source": [
        "Counter(one_d)"
      ],
      "execution_count": 53,
      "outputs": [
        {
          "output_type": "execute_result",
          "data": {
            "text/plain": [
              "Counter({'Action': 277,\n",
              "         'Adventure': 244,\n",
              "         'Animation': 45,\n",
              "         'Biography': 67,\n",
              "         'Comedy': 250,\n",
              "         'Crime': 126,\n",
              "         'Drama': 419,\n",
              "         'Family': 48,\n",
              "         'Fantasy': 92,\n",
              "         'History': 25,\n",
              "         'Horror': 87,\n",
              "         'Music': 15,\n",
              "         'Musical': 5,\n",
              "         'Mystery': 86,\n",
              "         'Romance': 120,\n",
              "         'Sci-Fi': 107,\n",
              "         'Sport': 15,\n",
              "         'Thriller': 148,\n",
              "         'War': 10,\n",
              "         'Western': 4})"
            ]
          },
          "metadata": {},
          "execution_count": 53
        }
      ]
    },
    {
      "cell_type": "code",
      "metadata": {
        "id": "426CHdzN_-mE"
      },
      "source": [
        ""
      ],
      "execution_count": 53,
      "outputs": []
    }
  ]
}